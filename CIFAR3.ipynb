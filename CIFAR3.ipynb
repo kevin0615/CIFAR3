{
  "nbformat": 4,
  "nbformat_minor": 0,
  "metadata": {
    "accelerator": "GPU",
    "colab": {
      "name": "CIFAR3.ipynb",
      "provenance": [],
      "collapsed_sections": [],
      "toc_visible": true
    },
    "kernelspec": {
      "display_name": "Python 3",
      "name": "python3"
    }
  },
  "cells": [
    {
      "cell_type": "code",
      "metadata": {
        "id": "cB8dlwJQ_l3Q"
      },
      "source": [
        "import numpy as np\n",
        "from keras import datasets, models, layers, optimizers\n",
        "from keras.utils.np_utils import to_categorical\n",
        "import matplotlib.pyplot as plt"
      ],
      "execution_count": 1,
      "outputs": []
    },
    {
      "cell_type": "markdown",
      "metadata": {
        "id": "s2AL11FjNCoP"
      },
      "source": [
        "# **Step 1 : Load the data**"
      ]
    },
    {
      "cell_type": "code",
      "metadata": {
        "colab": {
          "base_uri": "https://localhost:8080/"
        },
        "id": "p9UcwtfZA8Ng",
        "outputId": "5ac63ec5-d46f-4a9d-e35c-fcc8e6be2f48"
      },
      "source": [
        "# Load the data \n",
        "(train_images, train_labels), (test_images, test_labels) = datasets.cifar10.load_data()"
      ],
      "execution_count": 2,
      "outputs": [
        {
          "output_type": "stream",
          "text": [
            "Downloading data from https://www.cs.toronto.edu/~kriz/cifar-10-python.tar.gz\n",
            "170500096/170498071 [==============================] - 3s 0us/step\n"
          ],
          "name": "stdout"
        }
      ]
    },
    {
      "cell_type": "code",
      "metadata": {
        "colab": {
          "base_uri": "https://localhost:8080/"
        },
        "id": "k_0oCtbbufb6",
        "outputId": "0666d982-e2d5-48c0-9302-d84ee47b7316"
      },
      "source": [
        "train_images.shape"
      ],
      "execution_count": 3,
      "outputs": [
        {
          "output_type": "execute_result",
          "data": {
            "text/plain": [
              "(50000, 32, 32, 3)"
            ]
          },
          "metadata": {
            "tags": []
          },
          "execution_count": 3
        }
      ]
    },
    {
      "cell_type": "markdown",
      "metadata": {
        "id": "SrsCYn-rP8QJ"
      },
      "source": [
        "Lets select only 3 classes."
      ]
    },
    {
      "cell_type": "code",
      "metadata": {
        "id": "82tLnSjzP_nO"
      },
      "source": [
        "# Choose 3 first classes\n",
        "train_indexes = np.where(train_labels == [0,1,2])[0]\n",
        "test_indexes = np.where(test_labels == [0,1,2])[0]\n",
        "\n",
        "train_labels = train_labels[train_indexes]\n",
        "train_images = train_images[train_indexes]\n",
        "\n",
        "\n",
        "test_labels = test_labels[test_indexes]\n",
        "test_images = test_images[test_indexes]"
      ],
      "execution_count": 4,
      "outputs": []
    },
    {
      "cell_type": "code",
      "metadata": {
        "colab": {
          "base_uri": "https://localhost:8080/"
        },
        "id": "UXpe_bAoBKwt",
        "outputId": "94de5347-42ad-48ae-d3ad-d696ca0893d6"
      },
      "source": [
        "# Inspect the data\n",
        "np.unique(train_labels)"
      ],
      "execution_count": 5,
      "outputs": [
        {
          "output_type": "execute_result",
          "data": {
            "text/plain": [
              "array([0, 1, 2], dtype=uint8)"
            ]
          },
          "metadata": {
            "tags": []
          },
          "execution_count": 5
        }
      ]
    },
    {
      "cell_type": "code",
      "metadata": {
        "colab": {
          "base_uri": "https://localhost:8080/"
        },
        "id": "Alw4XcNfGNko",
        "outputId": "69ab9464-1c7d-48b3-c4b1-71f15e53bb64"
      },
      "source": [
        "train_images[1]"
      ],
      "execution_count": 6,
      "outputs": [
        {
          "output_type": "execute_result",
          "data": {
            "text/plain": [
              "array([[[159, 102, 101],\n",
              "        [150,  91,  95],\n",
              "        [153,  95,  97],\n",
              "        ...,\n",
              "        [ 91,  71,  56],\n",
              "        [ 74,  63,  55],\n",
              "        [ 76,  58,  55]],\n",
              "\n",
              "       [[142,  75,  68],\n",
              "        [146,  72,  66],\n",
              "        [155,  76,  65],\n",
              "        ...,\n",
              "        [127, 105,  71],\n",
              "        [122, 111,  93],\n",
              "        [ 86,  69,  61]],\n",
              "\n",
              "       [[109,  67,  75],\n",
              "        [ 99,  58,  60],\n",
              "        [105,  59,  52],\n",
              "        ...,\n",
              "        [137, 112,  80],\n",
              "        [163, 132, 105],\n",
              "        [ 93,  72,  71]],\n",
              "\n",
              "       ...,\n",
              "\n",
              "       [[244, 129,  70],\n",
              "        [240, 123,  65],\n",
              "        [241, 122,  65],\n",
              "        ...,\n",
              "        [156,  42,  15],\n",
              "        [179,  59,  26],\n",
              "        [200,  73,  36]],\n",
              "\n",
              "       [[246, 133,  74],\n",
              "        [243, 128,  72],\n",
              "        [243, 127,  70],\n",
              "        ...,\n",
              "        [162,  44,  14],\n",
              "        [178,  56,  22],\n",
              "        [192,  65,  27]],\n",
              "\n",
              "       [[246, 139,  82],\n",
              "        [243, 133,  78],\n",
              "        [244, 132,  77],\n",
              "        ...,\n",
              "        [166,  47,  14],\n",
              "        [173,  51,  17],\n",
              "        [182,  57,  19]]], dtype=uint8)"
            ]
          },
          "metadata": {
            "tags": []
          },
          "execution_count": 6
        }
      ]
    },
    {
      "cell_type": "markdown",
      "metadata": {
        "id": "kMMM8miENQuR"
      },
      "source": [
        "# **Step 2 : Prepare the data**"
      ]
    },
    {
      "cell_type": "code",
      "metadata": {
        "id": "EqHaDGstw5Qp"
      },
      "source": [
        "# Reshape the data\n",
        "train_images = train_images.reshape((15000, 32*32*3))\n",
        "test_images = test_images.reshape((3000, 32*32*3))"
      ],
      "execution_count": 7,
      "outputs": []
    },
    {
      "cell_type": "code",
      "metadata": {
        "colab": {
          "base_uri": "https://localhost:8080/"
        },
        "id": "xOP7pinPxEaT",
        "outputId": "97c9d527-560a-4292-f7ee-df409d91c96e"
      },
      "source": [
        "test_images.shape"
      ],
      "execution_count": 8,
      "outputs": [
        {
          "output_type": "execute_result",
          "data": {
            "text/plain": [
              "(3000, 3072)"
            ]
          },
          "metadata": {
            "tags": []
          },
          "execution_count": 8
        }
      ]
    },
    {
      "cell_type": "code",
      "metadata": {
        "colab": {
          "base_uri": "https://localhost:8080/"
        },
        "id": "kaQdkbijDY4V",
        "outputId": "9b8314cb-059c-46ac-ed55-793418d41409"
      },
      "source": [
        "# Normalize the pixels values to be between 0 and 1\n",
        "train_images, test_images = train_images.astype('float32') / 255 , test_images.astype('float32') / 255\n",
        "train_images[0]"
      ],
      "execution_count": 9,
      "outputs": [
        {
          "output_type": "execute_result",
          "data": {
            "text/plain": [
              "array([0.6666667 , 0.7058824 , 0.7764706 , ..., 0.28627452, 0.3019608 ,\n",
              "       0.3137255 ], dtype=float32)"
            ]
          },
          "metadata": {
            "tags": []
          },
          "execution_count": 9
        }
      ]
    },
    {
      "cell_type": "code",
      "metadata": {
        "colab": {
          "base_uri": "https://localhost:8080/"
        },
        "id": "Xez7La8Db2_5",
        "outputId": "1f8c4e08-5364-48aa-f8b6-abee6353ff31"
      },
      "source": [
        "# Vectorize the target using categorical encoding\n",
        "# Inspect two targets before encoding\n",
        "train_labels[0], test_labels[1]"
      ],
      "execution_count": 10,
      "outputs": [
        {
          "output_type": "execute_result",
          "data": {
            "text/plain": [
              "(array([1], dtype=uint8), array([1], dtype=uint8))"
            ]
          },
          "metadata": {
            "tags": []
          },
          "execution_count": 10
        }
      ]
    },
    {
      "cell_type": "code",
      "metadata": {
        "colab": {
          "base_uri": "https://localhost:8080/"
        },
        "id": "G0pjlR8ebMjQ",
        "outputId": "2d1681d2-1caf-47c0-a703-927f573d033c"
      },
      "source": [
        "# Encoding\n",
        "train_labels = to_categorical(train_labels)\n",
        "test_labels = to_categorical(test_labels)\n",
        "# Inspect targets after encoding for verification\n",
        "train_labels[0], test_labels[1]"
      ],
      "execution_count": 11,
      "outputs": [
        {
          "output_type": "execute_result",
          "data": {
            "text/plain": [
              "(array([0., 1., 0.], dtype=float32), array([0., 1., 0.], dtype=float32))"
            ]
          },
          "metadata": {
            "tags": []
          },
          "execution_count": 11
        }
      ]
    },
    {
      "cell_type": "markdown",
      "metadata": {
        "id": "wqClkoCIPG7o"
      },
      "source": [
        "Since we have 5000 observations per classes for training we 5000 x 3 = 15000 total of observations for training in this exercice, since we only use 3 classes.\n",
        "\n",
        "We will use 4000 observations per class for training and 1000 for validations, so we will have a total of 12000 observations for training and 3000 for testing."
      ]
    },
    {
      "cell_type": "code",
      "metadata": {
        "id": "Jm91ai6jNWQW"
      },
      "source": [
        "# Split the training data into training and validation sets\n",
        "x_train = train_images[:12000] #12000 for training and the rest for validation\n",
        "y_train = train_labels[:12000]\n",
        "\n",
        "x_val = train_images[12000:]\n",
        "y_val = train_labels[12000:]"
      ],
      "execution_count": 12,
      "outputs": []
    },
    {
      "cell_type": "code",
      "metadata": {
        "colab": {
          "base_uri": "https://localhost:8080/"
        },
        "id": "BLcvy49OoMWy",
        "outputId": "0cb419aa-ef5a-485f-95cd-e32a7a2c8180"
      },
      "source": [
        "train_images.shape"
      ],
      "execution_count": 13,
      "outputs": [
        {
          "output_type": "execute_result",
          "data": {
            "text/plain": [
              "(15000, 3072)"
            ]
          },
          "metadata": {
            "tags": []
          },
          "execution_count": 13
        }
      ]
    },
    {
      "cell_type": "markdown",
      "metadata": {
        "id": "02UgfwWcN2aK"
      },
      "source": [
        "# **Step 3 : Build the network**"
      ]
    },
    {
      "cell_type": "code",
      "metadata": {
        "id": "6G2W77fiF1MC"
      },
      "source": [
        "model = models.Sequential()\n",
        "model.add(layers.Dense(3072, activation='relu', input_shape=(32*32*3,)))\n",
        "model.add(layers.Dense(512, activation='relu'))\n",
        "model.add(layers.Dense(64, activation='relu'))\n",
        "model.add(layers.Dense(3, activation='softmax'))"
      ],
      "execution_count": 14,
      "outputs": []
    },
    {
      "cell_type": "code",
      "metadata": {
        "id": "R1IaH_xBdunc"
      },
      "source": [
        "model.compile(optimizer='adam', loss='categorical_crossentropy', metrics=['accuracy'])"
      ],
      "execution_count": 15,
      "outputs": []
    },
    {
      "cell_type": "markdown",
      "metadata": {
        "id": "d97LQxmzOA-L"
      },
      "source": [
        "# **Step 4 : Training and validation**"
      ]
    },
    {
      "cell_type": "code",
      "metadata": {
        "colab": {
          "base_uri": "https://localhost:8080/"
        },
        "id": "anErIjm0hHZt",
        "outputId": "472619c6-2d10-48c8-c309-39ecbaa6e397"
      },
      "source": [
        "history = model.fit(x_train, y_train, epochs=200, batch_size=500, validation_data=(x_val,y_val))"
      ],
      "execution_count": 16,
      "outputs": [
        {
          "output_type": "stream",
          "text": [
            "Epoch 1/200\n",
            "24/24 [==============================] - 3s 33ms/step - loss: 4.0181 - accuracy: 0.3460 - val_loss: 1.0608 - val_accuracy: 0.3957\n",
            "Epoch 2/200\n",
            "24/24 [==============================] - 0s 13ms/step - loss: 1.0579 - accuracy: 0.4166 - val_loss: 1.0145 - val_accuracy: 0.5433\n",
            "Epoch 3/200\n",
            "24/24 [==============================] - 0s 13ms/step - loss: 0.9849 - accuracy: 0.5312 - val_loss: 0.9364 - val_accuracy: 0.6097\n",
            "Epoch 4/200\n",
            "24/24 [==============================] - 0s 13ms/step - loss: 0.9086 - accuracy: 0.6211 - val_loss: 0.8713 - val_accuracy: 0.6280\n",
            "Epoch 5/200\n",
            "24/24 [==============================] - 0s 13ms/step - loss: 0.8259 - accuracy: 0.6700 - val_loss: 0.7989 - val_accuracy: 0.6707\n",
            "Epoch 6/200\n",
            "24/24 [==============================] - 0s 13ms/step - loss: 0.7690 - accuracy: 0.6854 - val_loss: 0.7688 - val_accuracy: 0.6840\n",
            "Epoch 7/200\n",
            "24/24 [==============================] - 0s 13ms/step - loss: 0.7512 - accuracy: 0.6861 - val_loss: 0.7739 - val_accuracy: 0.6677\n",
            "Epoch 8/200\n",
            "24/24 [==============================] - 0s 13ms/step - loss: 0.7469 - accuracy: 0.6867 - val_loss: 0.7338 - val_accuracy: 0.6947\n",
            "Epoch 9/200\n",
            "24/24 [==============================] - 0s 13ms/step - loss: 0.6908 - accuracy: 0.7188 - val_loss: 0.7322 - val_accuracy: 0.6987\n",
            "Epoch 10/200\n",
            "24/24 [==============================] - 0s 13ms/step - loss: 0.6790 - accuracy: 0.7197 - val_loss: 0.7117 - val_accuracy: 0.7067\n",
            "Epoch 11/200\n",
            "24/24 [==============================] - 0s 12ms/step - loss: 0.6670 - accuracy: 0.7339 - val_loss: 0.7008 - val_accuracy: 0.7163\n",
            "Epoch 12/200\n",
            "24/24 [==============================] - 0s 14ms/step - loss: 0.6708 - accuracy: 0.7219 - val_loss: 0.7059 - val_accuracy: 0.7073\n",
            "Epoch 13/200\n",
            "24/24 [==============================] - 0s 13ms/step - loss: 0.6470 - accuracy: 0.7346 - val_loss: 0.7091 - val_accuracy: 0.7030\n",
            "Epoch 14/200\n",
            "24/24 [==============================] - 0s 13ms/step - loss: 0.6563 - accuracy: 0.7297 - val_loss: 0.6801 - val_accuracy: 0.7233\n",
            "Epoch 15/200\n",
            "24/24 [==============================] - 0s 12ms/step - loss: 0.6385 - accuracy: 0.7411 - val_loss: 0.6622 - val_accuracy: 0.7427\n",
            "Epoch 16/200\n",
            "24/24 [==============================] - 0s 13ms/step - loss: 0.6190 - accuracy: 0.7513 - val_loss: 0.6526 - val_accuracy: 0.7370\n",
            "Epoch 17/200\n",
            "24/24 [==============================] - 0s 13ms/step - loss: 0.6153 - accuracy: 0.7482 - val_loss: 0.6761 - val_accuracy: 0.7180\n",
            "Epoch 18/200\n",
            "24/24 [==============================] - 0s 13ms/step - loss: 0.6148 - accuracy: 0.7477 - val_loss: 0.6655 - val_accuracy: 0.7237\n",
            "Epoch 19/200\n",
            "24/24 [==============================] - 0s 12ms/step - loss: 0.5957 - accuracy: 0.7593 - val_loss: 0.6420 - val_accuracy: 0.7380\n",
            "Epoch 20/200\n",
            "24/24 [==============================] - 0s 13ms/step - loss: 0.5730 - accuracy: 0.7718 - val_loss: 0.6463 - val_accuracy: 0.7457\n",
            "Epoch 21/200\n",
            "24/24 [==============================] - 0s 12ms/step - loss: 0.5835 - accuracy: 0.7603 - val_loss: 0.6115 - val_accuracy: 0.7650\n",
            "Epoch 22/200\n",
            "24/24 [==============================] - 0s 13ms/step - loss: 0.5601 - accuracy: 0.7740 - val_loss: 0.6106 - val_accuracy: 0.7643\n",
            "Epoch 23/200\n",
            "24/24 [==============================] - 0s 13ms/step - loss: 0.5784 - accuracy: 0.7646 - val_loss: 0.6204 - val_accuracy: 0.7523\n",
            "Epoch 24/200\n",
            "24/24 [==============================] - 0s 12ms/step - loss: 0.5631 - accuracy: 0.7695 - val_loss: 0.6257 - val_accuracy: 0.7483\n",
            "Epoch 25/200\n",
            "24/24 [==============================] - 0s 17ms/step - loss: 0.5733 - accuracy: 0.7640 - val_loss: 0.6182 - val_accuracy: 0.7533\n",
            "Epoch 26/200\n",
            "24/24 [==============================] - 0s 13ms/step - loss: 0.5544 - accuracy: 0.7726 - val_loss: 0.5908 - val_accuracy: 0.7693\n",
            "Epoch 27/200\n",
            "24/24 [==============================] - 0s 12ms/step - loss: 0.5268 - accuracy: 0.7871 - val_loss: 0.6146 - val_accuracy: 0.7533\n",
            "Epoch 28/200\n",
            "24/24 [==============================] - 0s 13ms/step - loss: 0.5299 - accuracy: 0.7901 - val_loss: 0.5826 - val_accuracy: 0.7607\n",
            "Epoch 29/200\n",
            "24/24 [==============================] - 0s 13ms/step - loss: 0.5227 - accuracy: 0.7877 - val_loss: 0.5778 - val_accuracy: 0.7657\n",
            "Epoch 30/200\n",
            "24/24 [==============================] - 0s 13ms/step - loss: 0.5051 - accuracy: 0.7945 - val_loss: 0.5707 - val_accuracy: 0.7767\n",
            "Epoch 31/200\n",
            "24/24 [==============================] - 0s 13ms/step - loss: 0.4991 - accuracy: 0.8032 - val_loss: 0.5765 - val_accuracy: 0.7717\n",
            "Epoch 32/200\n",
            "24/24 [==============================] - 0s 13ms/step - loss: 0.4916 - accuracy: 0.8079 - val_loss: 0.5617 - val_accuracy: 0.7783\n",
            "Epoch 33/200\n",
            "24/24 [==============================] - 0s 13ms/step - loss: 0.4787 - accuracy: 0.8094 - val_loss: 0.5662 - val_accuracy: 0.7743\n",
            "Epoch 34/200\n",
            "24/24 [==============================] - 0s 13ms/step - loss: 0.4834 - accuracy: 0.8038 - val_loss: 0.6041 - val_accuracy: 0.7623\n",
            "Epoch 35/200\n",
            "24/24 [==============================] - 0s 13ms/step - loss: 0.4810 - accuracy: 0.8101 - val_loss: 0.5858 - val_accuracy: 0.7617\n",
            "Epoch 36/200\n",
            "24/24 [==============================] - 0s 13ms/step - loss: 0.4806 - accuracy: 0.8064 - val_loss: 0.5471 - val_accuracy: 0.7857\n",
            "Epoch 37/200\n",
            "24/24 [==============================] - 0s 13ms/step - loss: 0.4595 - accuracy: 0.8190 - val_loss: 0.5448 - val_accuracy: 0.7903\n",
            "Epoch 38/200\n",
            "24/24 [==============================] - 0s 13ms/step - loss: 0.4586 - accuracy: 0.8173 - val_loss: 0.6255 - val_accuracy: 0.7517\n",
            "Epoch 39/200\n",
            "24/24 [==============================] - 0s 13ms/step - loss: 0.4863 - accuracy: 0.8015 - val_loss: 0.5543 - val_accuracy: 0.7890\n",
            "Epoch 40/200\n",
            "24/24 [==============================] - 0s 13ms/step - loss: 0.4429 - accuracy: 0.8257 - val_loss: 0.5350 - val_accuracy: 0.7943\n",
            "Epoch 41/200\n",
            "24/24 [==============================] - 0s 12ms/step - loss: 0.4307 - accuracy: 0.8293 - val_loss: 0.5480 - val_accuracy: 0.7880\n",
            "Epoch 42/200\n",
            "24/24 [==============================] - 0s 13ms/step - loss: 0.4361 - accuracy: 0.8287 - val_loss: 0.5367 - val_accuracy: 0.7887\n",
            "Epoch 43/200\n",
            "24/24 [==============================] - 0s 13ms/step - loss: 0.4054 - accuracy: 0.8412 - val_loss: 0.5302 - val_accuracy: 0.7983\n",
            "Epoch 44/200\n",
            "24/24 [==============================] - 0s 13ms/step - loss: 0.4094 - accuracy: 0.8400 - val_loss: 0.5766 - val_accuracy: 0.7800\n",
            "Epoch 45/200\n",
            "24/24 [==============================] - 0s 13ms/step - loss: 0.4244 - accuracy: 0.8309 - val_loss: 0.5432 - val_accuracy: 0.7927\n",
            "Epoch 46/200\n",
            "24/24 [==============================] - 0s 13ms/step - loss: 0.4019 - accuracy: 0.8428 - val_loss: 0.5522 - val_accuracy: 0.7850\n",
            "Epoch 47/200\n",
            "24/24 [==============================] - 0s 13ms/step - loss: 0.3907 - accuracy: 0.8472 - val_loss: 0.5450 - val_accuracy: 0.7910\n",
            "Epoch 48/200\n",
            "24/24 [==============================] - 0s 13ms/step - loss: 0.4313 - accuracy: 0.8270 - val_loss: 0.5482 - val_accuracy: 0.7877\n",
            "Epoch 49/200\n",
            "24/24 [==============================] - 0s 13ms/step - loss: 0.4153 - accuracy: 0.8424 - val_loss: 0.5381 - val_accuracy: 0.7977\n",
            "Epoch 50/200\n",
            "24/24 [==============================] - 0s 13ms/step - loss: 0.4120 - accuracy: 0.8358 - val_loss: 0.5298 - val_accuracy: 0.8057\n",
            "Epoch 51/200\n",
            "24/24 [==============================] - 0s 13ms/step - loss: 0.3622 - accuracy: 0.8628 - val_loss: 0.5308 - val_accuracy: 0.7990\n",
            "Epoch 52/200\n",
            "24/24 [==============================] - 0s 13ms/step - loss: 0.3568 - accuracy: 0.8627 - val_loss: 0.5308 - val_accuracy: 0.8013\n",
            "Epoch 53/200\n",
            "24/24 [==============================] - 0s 13ms/step - loss: 0.3602 - accuracy: 0.8570 - val_loss: 0.5329 - val_accuracy: 0.8043\n",
            "Epoch 54/200\n",
            "24/24 [==============================] - 0s 13ms/step - loss: 0.3492 - accuracy: 0.8607 - val_loss: 0.5256 - val_accuracy: 0.8023\n",
            "Epoch 55/200\n",
            "24/24 [==============================] - 0s 13ms/step - loss: 0.3530 - accuracy: 0.8606 - val_loss: 0.5648 - val_accuracy: 0.7843\n",
            "Epoch 56/200\n",
            "24/24 [==============================] - 0s 12ms/step - loss: 0.3602 - accuracy: 0.8603 - val_loss: 0.5308 - val_accuracy: 0.8017\n",
            "Epoch 57/200\n",
            "24/24 [==============================] - 0s 13ms/step - loss: 0.3331 - accuracy: 0.8721 - val_loss: 0.6292 - val_accuracy: 0.7747\n",
            "Epoch 58/200\n",
            "24/24 [==============================] - 0s 13ms/step - loss: 0.3814 - accuracy: 0.8513 - val_loss: 0.5275 - val_accuracy: 0.7937\n",
            "Epoch 59/200\n",
            "24/24 [==============================] - 0s 13ms/step - loss: 0.3613 - accuracy: 0.8581 - val_loss: 0.5619 - val_accuracy: 0.7980\n",
            "Epoch 60/200\n",
            "24/24 [==============================] - 0s 13ms/step - loss: 0.3420 - accuracy: 0.8633 - val_loss: 0.5549 - val_accuracy: 0.7997\n",
            "Epoch 61/200\n",
            "24/24 [==============================] - 0s 13ms/step - loss: 0.3582 - accuracy: 0.8581 - val_loss: 0.5772 - val_accuracy: 0.7837\n",
            "Epoch 62/200\n",
            "24/24 [==============================] - 0s 13ms/step - loss: 0.3539 - accuracy: 0.8612 - val_loss: 0.5372 - val_accuracy: 0.7967\n",
            "Epoch 63/200\n",
            "24/24 [==============================] - 0s 13ms/step - loss: 0.3136 - accuracy: 0.8783 - val_loss: 0.5422 - val_accuracy: 0.7987\n",
            "Epoch 64/200\n",
            "24/24 [==============================] - 0s 13ms/step - loss: 0.3141 - accuracy: 0.8786 - val_loss: 0.5535 - val_accuracy: 0.8040\n",
            "Epoch 65/200\n",
            "24/24 [==============================] - 0s 13ms/step - loss: 0.2962 - accuracy: 0.8893 - val_loss: 0.5410 - val_accuracy: 0.8097\n",
            "Epoch 66/200\n",
            "24/24 [==============================] - 0s 14ms/step - loss: 0.2991 - accuracy: 0.8854 - val_loss: 0.5542 - val_accuracy: 0.7997\n",
            "Epoch 67/200\n",
            "24/24 [==============================] - 0s 17ms/step - loss: 0.2973 - accuracy: 0.8842 - val_loss: 0.5559 - val_accuracy: 0.7977\n",
            "Epoch 68/200\n",
            "24/24 [==============================] - 0s 13ms/step - loss: 0.2847 - accuracy: 0.8874 - val_loss: 0.5428 - val_accuracy: 0.8157\n",
            "Epoch 69/200\n",
            "24/24 [==============================] - 0s 13ms/step - loss: 0.2753 - accuracy: 0.8939 - val_loss: 0.5558 - val_accuracy: 0.8000\n",
            "Epoch 70/200\n",
            "24/24 [==============================] - 0s 13ms/step - loss: 0.2855 - accuracy: 0.8903 - val_loss: 0.5678 - val_accuracy: 0.7867\n",
            "Epoch 71/200\n",
            "24/24 [==============================] - 0s 13ms/step - loss: 0.3129 - accuracy: 0.8745 - val_loss: 0.5937 - val_accuracy: 0.7960\n",
            "Epoch 72/200\n",
            "24/24 [==============================] - 0s 12ms/step - loss: 0.2725 - accuracy: 0.8967 - val_loss: 0.5632 - val_accuracy: 0.7957\n",
            "Epoch 73/200\n",
            "24/24 [==============================] - 0s 13ms/step - loss: 0.2655 - accuracy: 0.8997 - val_loss: 0.5692 - val_accuracy: 0.8087\n",
            "Epoch 74/200\n",
            "24/24 [==============================] - 0s 13ms/step - loss: 0.2480 - accuracy: 0.9015 - val_loss: 0.6024 - val_accuracy: 0.8067\n",
            "Epoch 75/200\n",
            "24/24 [==============================] - 0s 13ms/step - loss: 0.2584 - accuracy: 0.8991 - val_loss: 0.5709 - val_accuracy: 0.8047\n",
            "Epoch 76/200\n",
            "24/24 [==============================] - 0s 13ms/step - loss: 0.2438 - accuracy: 0.9078 - val_loss: 0.6069 - val_accuracy: 0.8063\n",
            "Epoch 77/200\n",
            "24/24 [==============================] - 0s 13ms/step - loss: 0.2406 - accuracy: 0.9113 - val_loss: 0.6083 - val_accuracy: 0.7977\n",
            "Epoch 78/200\n",
            "24/24 [==============================] - 0s 13ms/step - loss: 0.2419 - accuracy: 0.9083 - val_loss: 0.6160 - val_accuracy: 0.7973\n",
            "Epoch 79/200\n",
            "24/24 [==============================] - 0s 13ms/step - loss: 0.2457 - accuracy: 0.9049 - val_loss: 0.5668 - val_accuracy: 0.8187\n",
            "Epoch 80/200\n",
            "24/24 [==============================] - 0s 13ms/step - loss: 0.2241 - accuracy: 0.9150 - val_loss: 0.5665 - val_accuracy: 0.8127\n",
            "Epoch 81/200\n",
            "24/24 [==============================] - 0s 13ms/step - loss: 0.2130 - accuracy: 0.9211 - val_loss: 0.5901 - val_accuracy: 0.8053\n",
            "Epoch 82/200\n",
            "24/24 [==============================] - 0s 13ms/step - loss: 0.2181 - accuracy: 0.9168 - val_loss: 0.6095 - val_accuracy: 0.8063\n",
            "Epoch 83/200\n",
            "24/24 [==============================] - 0s 13ms/step - loss: 0.2299 - accuracy: 0.9089 - val_loss: 0.5984 - val_accuracy: 0.8087\n",
            "Epoch 84/200\n",
            "24/24 [==============================] - 0s 13ms/step - loss: 0.2139 - accuracy: 0.9172 - val_loss: 0.6538 - val_accuracy: 0.7930\n",
            "Epoch 85/200\n",
            "24/24 [==============================] - 0s 13ms/step - loss: 0.1991 - accuracy: 0.9248 - val_loss: 0.6113 - val_accuracy: 0.8163\n",
            "Epoch 86/200\n",
            "24/24 [==============================] - 0s 13ms/step - loss: 0.1859 - accuracy: 0.9267 - val_loss: 0.7257 - val_accuracy: 0.7870\n",
            "Epoch 87/200\n",
            "24/24 [==============================] - 0s 13ms/step - loss: 0.2182 - accuracy: 0.9123 - val_loss: 0.6358 - val_accuracy: 0.8073\n",
            "Epoch 88/200\n",
            "24/24 [==============================] - 0s 13ms/step - loss: 0.1905 - accuracy: 0.9297 - val_loss: 0.7687 - val_accuracy: 0.7983\n",
            "Epoch 89/200\n",
            "24/24 [==============================] - 0s 13ms/step - loss: 0.2067 - accuracy: 0.9167 - val_loss: 0.6945 - val_accuracy: 0.7853\n",
            "Epoch 90/200\n",
            "24/24 [==============================] - 0s 13ms/step - loss: 0.2018 - accuracy: 0.9212 - val_loss: 0.6615 - val_accuracy: 0.8063\n",
            "Epoch 91/200\n",
            "24/24 [==============================] - 0s 13ms/step - loss: 0.2098 - accuracy: 0.9145 - val_loss: 0.6789 - val_accuracy: 0.8017\n",
            "Epoch 92/200\n",
            "24/24 [==============================] - 0s 13ms/step - loss: 0.2016 - accuracy: 0.9224 - val_loss: 0.6405 - val_accuracy: 0.8090\n",
            "Epoch 93/200\n",
            "24/24 [==============================] - 0s 13ms/step - loss: 0.1638 - accuracy: 0.9407 - val_loss: 0.7206 - val_accuracy: 0.8023\n",
            "Epoch 94/200\n",
            "24/24 [==============================] - 0s 13ms/step - loss: 0.1736 - accuracy: 0.9342 - val_loss: 0.6720 - val_accuracy: 0.8080\n",
            "Epoch 95/200\n",
            "24/24 [==============================] - 0s 13ms/step - loss: 0.1571 - accuracy: 0.9404 - val_loss: 0.6755 - val_accuracy: 0.8097\n",
            "Epoch 96/200\n",
            "24/24 [==============================] - 0s 13ms/step - loss: 0.1658 - accuracy: 0.9358 - val_loss: 0.6849 - val_accuracy: 0.8137\n",
            "Epoch 97/200\n",
            "24/24 [==============================] - 0s 13ms/step - loss: 0.1686 - accuracy: 0.9385 - val_loss: 0.7176 - val_accuracy: 0.8133\n",
            "Epoch 98/200\n",
            "24/24 [==============================] - 0s 13ms/step - loss: 0.1555 - accuracy: 0.9422 - val_loss: 0.7126 - val_accuracy: 0.8013\n",
            "Epoch 99/200\n",
            "24/24 [==============================] - 0s 13ms/step - loss: 0.1808 - accuracy: 0.9310 - val_loss: 0.7054 - val_accuracy: 0.8087\n",
            "Epoch 100/200\n",
            "24/24 [==============================] - 0s 13ms/step - loss: 0.1635 - accuracy: 0.9352 - val_loss: 0.7631 - val_accuracy: 0.7970\n",
            "Epoch 101/200\n",
            "24/24 [==============================] - 0s 13ms/step - loss: 0.1588 - accuracy: 0.9385 - val_loss: 0.8010 - val_accuracy: 0.7867\n",
            "Epoch 102/200\n",
            "24/24 [==============================] - 0s 13ms/step - loss: 0.1838 - accuracy: 0.9323 - val_loss: 0.7472 - val_accuracy: 0.8060\n",
            "Epoch 103/200\n",
            "24/24 [==============================] - 0s 13ms/step - loss: 0.1317 - accuracy: 0.9508 - val_loss: 0.7221 - val_accuracy: 0.8117\n",
            "Epoch 104/200\n",
            "24/24 [==============================] - 0s 13ms/step - loss: 0.1316 - accuracy: 0.9522 - val_loss: 0.7112 - val_accuracy: 0.8153\n",
            "Epoch 105/200\n",
            "24/24 [==============================] - 0s 13ms/step - loss: 0.1591 - accuracy: 0.9375 - val_loss: 0.7198 - val_accuracy: 0.8067\n",
            "Epoch 106/200\n",
            "24/24 [==============================] - 0s 13ms/step - loss: 0.1347 - accuracy: 0.9500 - val_loss: 0.7419 - val_accuracy: 0.8033\n",
            "Epoch 107/200\n",
            "24/24 [==============================] - 0s 13ms/step - loss: 0.1262 - accuracy: 0.9507 - val_loss: 0.7456 - val_accuracy: 0.8160\n",
            "Epoch 108/200\n",
            "24/24 [==============================] - 0s 14ms/step - loss: 0.1165 - accuracy: 0.9572 - val_loss: 0.7783 - val_accuracy: 0.8110\n",
            "Epoch 109/200\n",
            "24/24 [==============================] - 0s 13ms/step - loss: 0.1242 - accuracy: 0.9564 - val_loss: 0.7484 - val_accuracy: 0.8103\n",
            "Epoch 110/200\n",
            "24/24 [==============================] - 0s 13ms/step - loss: 0.1447 - accuracy: 0.9453 - val_loss: 0.8583 - val_accuracy: 0.7950\n",
            "Epoch 111/200\n",
            "24/24 [==============================] - 0s 13ms/step - loss: 0.1162 - accuracy: 0.9560 - val_loss: 0.8445 - val_accuracy: 0.8010\n",
            "Epoch 112/200\n",
            "24/24 [==============================] - 0s 14ms/step - loss: 0.1107 - accuracy: 0.9599 - val_loss: 0.8114 - val_accuracy: 0.8110\n",
            "Epoch 113/200\n",
            "24/24 [==============================] - 0s 13ms/step - loss: 0.0965 - accuracy: 0.9648 - val_loss: 0.8548 - val_accuracy: 0.7987\n",
            "Epoch 114/200\n",
            "24/24 [==============================] - 0s 13ms/step - loss: 0.1150 - accuracy: 0.9552 - val_loss: 0.8582 - val_accuracy: 0.8123\n",
            "Epoch 115/200\n",
            "24/24 [==============================] - 0s 14ms/step - loss: 0.0996 - accuracy: 0.9636 - val_loss: 0.9045 - val_accuracy: 0.8130\n",
            "Epoch 116/200\n",
            "24/24 [==============================] - 0s 14ms/step - loss: 0.1209 - accuracy: 0.9565 - val_loss: 0.7945 - val_accuracy: 0.7987\n",
            "Epoch 117/200\n",
            "24/24 [==============================] - 0s 18ms/step - loss: 0.1344 - accuracy: 0.9503 - val_loss: 0.8552 - val_accuracy: 0.8097\n",
            "Epoch 118/200\n",
            "24/24 [==============================] - 0s 14ms/step - loss: 0.1107 - accuracy: 0.9593 - val_loss: 0.8283 - val_accuracy: 0.8103\n",
            "Epoch 119/200\n",
            "24/24 [==============================] - 0s 13ms/step - loss: 0.1029 - accuracy: 0.9603 - val_loss: 0.8654 - val_accuracy: 0.8197\n",
            "Epoch 120/200\n",
            "24/24 [==============================] - 0s 13ms/step - loss: 0.0881 - accuracy: 0.9693 - val_loss: 0.9102 - val_accuracy: 0.8093\n",
            "Epoch 121/200\n",
            "24/24 [==============================] - 0s 14ms/step - loss: 0.1447 - accuracy: 0.9472 - val_loss: 0.8137 - val_accuracy: 0.8153\n",
            "Epoch 122/200\n",
            "24/24 [==============================] - 0s 13ms/step - loss: 0.1165 - accuracy: 0.9558 - val_loss: 0.8931 - val_accuracy: 0.7963\n",
            "Epoch 123/200\n",
            "24/24 [==============================] - 0s 13ms/step - loss: 0.0879 - accuracy: 0.9690 - val_loss: 0.8350 - val_accuracy: 0.7997\n",
            "Epoch 124/200\n",
            "24/24 [==============================] - 0s 13ms/step - loss: 0.0941 - accuracy: 0.9676 - val_loss: 0.9120 - val_accuracy: 0.8010\n",
            "Epoch 125/200\n",
            "24/24 [==============================] - 0s 14ms/step - loss: 0.1084 - accuracy: 0.9545 - val_loss: 0.8733 - val_accuracy: 0.8167\n",
            "Epoch 126/200\n",
            "24/24 [==============================] - 0s 13ms/step - loss: 0.0720 - accuracy: 0.9771 - val_loss: 0.8838 - val_accuracy: 0.8197\n",
            "Epoch 127/200\n",
            "24/24 [==============================] - 0s 14ms/step - loss: 0.0700 - accuracy: 0.9760 - val_loss: 1.0293 - val_accuracy: 0.7947\n",
            "Epoch 128/200\n",
            "24/24 [==============================] - 0s 14ms/step - loss: 0.0872 - accuracy: 0.9678 - val_loss: 0.9161 - val_accuracy: 0.8163\n",
            "Epoch 129/200\n",
            "24/24 [==============================] - 0s 13ms/step - loss: 0.0778 - accuracy: 0.9694 - val_loss: 0.9384 - val_accuracy: 0.8160\n",
            "Epoch 130/200\n",
            "24/24 [==============================] - 0s 13ms/step - loss: 0.0948 - accuracy: 0.9650 - val_loss: 0.9353 - val_accuracy: 0.8130\n",
            "Epoch 131/200\n",
            "24/24 [==============================] - 0s 13ms/step - loss: 0.0701 - accuracy: 0.9737 - val_loss: 0.9586 - val_accuracy: 0.8010\n",
            "Epoch 132/200\n",
            "24/24 [==============================] - 0s 14ms/step - loss: 0.0651 - accuracy: 0.9782 - val_loss: 0.9763 - val_accuracy: 0.8187\n",
            "Epoch 133/200\n",
            "24/24 [==============================] - 0s 14ms/step - loss: 0.0488 - accuracy: 0.9849 - val_loss: 0.9948 - val_accuracy: 0.8160\n",
            "Epoch 134/200\n",
            "24/24 [==============================] - 0s 14ms/step - loss: 0.0561 - accuracy: 0.9792 - val_loss: 0.9657 - val_accuracy: 0.8047\n",
            "Epoch 135/200\n",
            "24/24 [==============================] - 0s 14ms/step - loss: 0.0694 - accuracy: 0.9761 - val_loss: 1.0639 - val_accuracy: 0.7977\n",
            "Epoch 136/200\n",
            "24/24 [==============================] - 0s 14ms/step - loss: 0.0682 - accuracy: 0.9766 - val_loss: 1.1138 - val_accuracy: 0.8003\n",
            "Epoch 137/200\n",
            "24/24 [==============================] - 0s 13ms/step - loss: 0.0606 - accuracy: 0.9793 - val_loss: 1.4623 - val_accuracy: 0.7737\n",
            "Epoch 138/200\n",
            "24/24 [==============================] - 0s 14ms/step - loss: 0.2746 - accuracy: 0.9062 - val_loss: 0.8524 - val_accuracy: 0.8000\n",
            "Epoch 139/200\n",
            "24/24 [==============================] - 0s 13ms/step - loss: 0.1096 - accuracy: 0.9590 - val_loss: 0.8496 - val_accuracy: 0.8017\n",
            "Epoch 140/200\n",
            "24/24 [==============================] - 0s 14ms/step - loss: 0.1081 - accuracy: 0.9586 - val_loss: 0.8895 - val_accuracy: 0.8137\n",
            "Epoch 141/200\n",
            "24/24 [==============================] - 0s 13ms/step - loss: 0.0632 - accuracy: 0.9793 - val_loss: 0.9118 - val_accuracy: 0.8143\n",
            "Epoch 142/200\n",
            "24/24 [==============================] - 0s 13ms/step - loss: 0.0524 - accuracy: 0.9831 - val_loss: 1.0032 - val_accuracy: 0.8137\n",
            "Epoch 143/200\n",
            "24/24 [==============================] - 0s 14ms/step - loss: 0.0500 - accuracy: 0.9841 - val_loss: 1.0012 - val_accuracy: 0.8007\n",
            "Epoch 144/200\n",
            "24/24 [==============================] - 0s 14ms/step - loss: 0.0511 - accuracy: 0.9830 - val_loss: 1.0224 - val_accuracy: 0.8033\n",
            "Epoch 145/200\n",
            "24/24 [==============================] - 0s 13ms/step - loss: 0.0437 - accuracy: 0.9859 - val_loss: 1.0585 - val_accuracy: 0.8133\n",
            "Epoch 146/200\n",
            "24/24 [==============================] - 0s 14ms/step - loss: 0.0497 - accuracy: 0.9832 - val_loss: 1.0836 - val_accuracy: 0.8103\n",
            "Epoch 147/200\n",
            "24/24 [==============================] - 0s 13ms/step - loss: 0.0443 - accuracy: 0.9847 - val_loss: 1.0380 - val_accuracy: 0.8063\n",
            "Epoch 148/200\n",
            "24/24 [==============================] - 0s 14ms/step - loss: 0.0418 - accuracy: 0.9871 - val_loss: 1.1129 - val_accuracy: 0.8123\n",
            "Epoch 149/200\n",
            "24/24 [==============================] - 0s 14ms/step - loss: 0.0568 - accuracy: 0.9797 - val_loss: 1.1137 - val_accuracy: 0.7997\n",
            "Epoch 150/200\n",
            "24/24 [==============================] - 0s 13ms/step - loss: 0.0664 - accuracy: 0.9760 - val_loss: 1.1083 - val_accuracy: 0.8040\n",
            "Epoch 151/200\n",
            "24/24 [==============================] - 0s 13ms/step - loss: 0.0532 - accuracy: 0.9800 - val_loss: 1.0482 - val_accuracy: 0.8167\n",
            "Epoch 152/200\n",
            "24/24 [==============================] - 0s 14ms/step - loss: 0.0390 - accuracy: 0.9864 - val_loss: 1.0864 - val_accuracy: 0.8133\n",
            "Epoch 153/200\n",
            "24/24 [==============================] - 0s 14ms/step - loss: 0.0573 - accuracy: 0.9780 - val_loss: 1.3186 - val_accuracy: 0.7730\n",
            "Epoch 154/200\n",
            "24/24 [==============================] - 0s 14ms/step - loss: 0.1032 - accuracy: 0.9613 - val_loss: 1.1849 - val_accuracy: 0.7817\n",
            "Epoch 155/200\n",
            "24/24 [==============================] - 0s 14ms/step - loss: 0.0842 - accuracy: 0.9657 - val_loss: 1.1723 - val_accuracy: 0.8000\n",
            "Epoch 156/200\n",
            "24/24 [==============================] - 0s 14ms/step - loss: 0.0585 - accuracy: 0.9798 - val_loss: 1.0839 - val_accuracy: 0.8030\n",
            "Epoch 157/200\n",
            "24/24 [==============================] - 0s 13ms/step - loss: 0.0402 - accuracy: 0.9869 - val_loss: 1.1147 - val_accuracy: 0.8067\n",
            "Epoch 158/200\n",
            "24/24 [==============================] - 0s 14ms/step - loss: 0.0427 - accuracy: 0.9852 - val_loss: 1.0868 - val_accuracy: 0.8140\n",
            "Epoch 159/200\n",
            "24/24 [==============================] - 0s 18ms/step - loss: 0.0367 - accuracy: 0.9866 - val_loss: 1.1631 - val_accuracy: 0.8103\n",
            "Epoch 160/200\n",
            "24/24 [==============================] - 0s 13ms/step - loss: 0.0421 - accuracy: 0.9862 - val_loss: 1.1386 - val_accuracy: 0.8083\n",
            "Epoch 161/200\n",
            "24/24 [==============================] - 0s 14ms/step - loss: 0.0421 - accuracy: 0.9870 - val_loss: 1.1113 - val_accuracy: 0.8113\n",
            "Epoch 162/200\n",
            "24/24 [==============================] - 0s 14ms/step - loss: 0.0511 - accuracy: 0.9812 - val_loss: 1.1748 - val_accuracy: 0.8113\n",
            "Epoch 163/200\n",
            "24/24 [==============================] - 0s 14ms/step - loss: 0.0858 - accuracy: 0.9673 - val_loss: 1.1240 - val_accuracy: 0.8073\n",
            "Epoch 164/200\n",
            "24/24 [==============================] - 0s 14ms/step - loss: 0.0374 - accuracy: 0.9877 - val_loss: 1.1725 - val_accuracy: 0.8133\n",
            "Epoch 165/200\n",
            "24/24 [==============================] - 0s 14ms/step - loss: 0.0322 - accuracy: 0.9910 - val_loss: 1.1905 - val_accuracy: 0.8083\n",
            "Epoch 166/200\n",
            "24/24 [==============================] - 0s 13ms/step - loss: 0.0294 - accuracy: 0.9898 - val_loss: 1.1679 - val_accuracy: 0.8080\n",
            "Epoch 167/200\n",
            "24/24 [==============================] - 0s 14ms/step - loss: 0.0353 - accuracy: 0.9888 - val_loss: 1.2130 - val_accuracy: 0.8120\n",
            "Epoch 168/200\n",
            "24/24 [==============================] - 0s 13ms/step - loss: 0.0543 - accuracy: 0.9796 - val_loss: 1.1184 - val_accuracy: 0.8060\n",
            "Epoch 169/200\n",
            "24/24 [==============================] - 0s 13ms/step - loss: 0.0763 - accuracy: 0.9695 - val_loss: 1.1680 - val_accuracy: 0.7987\n",
            "Epoch 170/200\n",
            "24/24 [==============================] - 0s 14ms/step - loss: 0.1226 - accuracy: 0.9550 - val_loss: 1.1097 - val_accuracy: 0.8003\n",
            "Epoch 171/200\n",
            "24/24 [==============================] - 0s 13ms/step - loss: 0.1222 - accuracy: 0.9516 - val_loss: 1.1126 - val_accuracy: 0.7950\n",
            "Epoch 172/200\n",
            "24/24 [==============================] - 0s 13ms/step - loss: 0.0665 - accuracy: 0.9765 - val_loss: 1.0997 - val_accuracy: 0.8027\n",
            "Epoch 173/200\n",
            "24/24 [==============================] - 0s 14ms/step - loss: 0.0357 - accuracy: 0.9874 - val_loss: 1.1176 - val_accuracy: 0.8150\n",
            "Epoch 174/200\n",
            "24/24 [==============================] - 0s 13ms/step - loss: 0.0320 - accuracy: 0.9889 - val_loss: 1.1484 - val_accuracy: 0.8127\n",
            "Epoch 175/200\n",
            "24/24 [==============================] - 0s 14ms/step - loss: 0.0267 - accuracy: 0.9920 - val_loss: 1.2115 - val_accuracy: 0.7940\n",
            "Epoch 176/200\n",
            "24/24 [==============================] - 0s 13ms/step - loss: 0.0237 - accuracy: 0.9932 - val_loss: 1.1759 - val_accuracy: 0.8183\n",
            "Epoch 177/200\n",
            "24/24 [==============================] - 0s 14ms/step - loss: 0.0246 - accuracy: 0.9919 - val_loss: 1.1796 - val_accuracy: 0.8147\n",
            "Epoch 178/200\n",
            "24/24 [==============================] - 0s 14ms/step - loss: 0.0235 - accuracy: 0.9924 - val_loss: 1.2608 - val_accuracy: 0.8110\n",
            "Epoch 179/200\n",
            "24/24 [==============================] - 0s 14ms/step - loss: 0.0229 - accuracy: 0.9929 - val_loss: 1.2347 - val_accuracy: 0.8100\n",
            "Epoch 180/200\n",
            "24/24 [==============================] - 0s 14ms/step - loss: 0.0194 - accuracy: 0.9939 - val_loss: 1.2126 - val_accuracy: 0.8153\n",
            "Epoch 181/200\n",
            "24/24 [==============================] - 0s 14ms/step - loss: 0.0177 - accuracy: 0.9949 - val_loss: 1.3011 - val_accuracy: 0.8047\n",
            "Epoch 182/200\n",
            "24/24 [==============================] - 0s 14ms/step - loss: 0.0246 - accuracy: 0.9916 - val_loss: 1.3316 - val_accuracy: 0.7950\n",
            "Epoch 183/200\n",
            "24/24 [==============================] - 0s 14ms/step - loss: 0.0389 - accuracy: 0.9857 - val_loss: 1.2938 - val_accuracy: 0.8030\n",
            "Epoch 184/200\n",
            "24/24 [==============================] - 0s 13ms/step - loss: 0.0293 - accuracy: 0.9911 - val_loss: 1.3098 - val_accuracy: 0.8030\n",
            "Epoch 185/200\n",
            "24/24 [==============================] - 0s 14ms/step - loss: 0.0337 - accuracy: 0.9876 - val_loss: 1.3293 - val_accuracy: 0.7963\n",
            "Epoch 186/200\n",
            "24/24 [==============================] - 0s 14ms/step - loss: 0.0876 - accuracy: 0.9646 - val_loss: 1.3957 - val_accuracy: 0.7927\n",
            "Epoch 187/200\n",
            "24/24 [==============================] - 0s 13ms/step - loss: 0.1646 - accuracy: 0.9424 - val_loss: 1.0723 - val_accuracy: 0.8047\n",
            "Epoch 188/200\n",
            "24/24 [==============================] - 0s 15ms/step - loss: 0.0964 - accuracy: 0.9626 - val_loss: 1.1410 - val_accuracy: 0.7883\n",
            "Epoch 189/200\n",
            "24/24 [==============================] - 0s 14ms/step - loss: 0.0652 - accuracy: 0.9754 - val_loss: 1.1321 - val_accuracy: 0.7947\n",
            "Epoch 190/200\n",
            "24/24 [==============================] - 0s 14ms/step - loss: 0.0464 - accuracy: 0.9818 - val_loss: 1.1274 - val_accuracy: 0.8063\n",
            "Epoch 191/200\n",
            "24/24 [==============================] - 0s 14ms/step - loss: 0.0293 - accuracy: 0.9909 - val_loss: 1.2117 - val_accuracy: 0.8030\n",
            "Epoch 192/200\n",
            "24/24 [==============================] - 0s 13ms/step - loss: 0.0181 - accuracy: 0.9946 - val_loss: 1.2272 - val_accuracy: 0.8073\n",
            "Epoch 193/200\n",
            "24/24 [==============================] - 0s 13ms/step - loss: 0.0191 - accuracy: 0.9942 - val_loss: 1.2395 - val_accuracy: 0.8113\n",
            "Epoch 194/200\n",
            "24/24 [==============================] - 0s 14ms/step - loss: 0.0177 - accuracy: 0.9949 - val_loss: 1.2265 - val_accuracy: 0.8197\n",
            "Epoch 195/200\n",
            "24/24 [==============================] - 0s 13ms/step - loss: 0.0214 - accuracy: 0.9931 - val_loss: 1.2027 - val_accuracy: 0.8130\n",
            "Epoch 196/200\n",
            "24/24 [==============================] - 0s 13ms/step - loss: 0.0188 - accuracy: 0.9943 - val_loss: 1.2582 - val_accuracy: 0.8137\n",
            "Epoch 197/200\n",
            "24/24 [==============================] - 0s 14ms/step - loss: 0.0223 - accuracy: 0.9918 - val_loss: 1.2662 - val_accuracy: 0.8123\n",
            "Epoch 198/200\n",
            "24/24 [==============================] - 0s 14ms/step - loss: 0.0165 - accuracy: 0.9948 - val_loss: 1.3260 - val_accuracy: 0.8040\n",
            "Epoch 199/200\n",
            "24/24 [==============================] - 0s 13ms/step - loss: 0.0136 - accuracy: 0.9958 - val_loss: 1.3402 - val_accuracy: 0.8150\n",
            "Epoch 200/200\n",
            "24/24 [==============================] - 0s 13ms/step - loss: 0.0159 - accuracy: 0.9953 - val_loss: 1.2848 - val_accuracy: 0.8157\n"
          ],
          "name": "stdout"
        }
      ]
    },
    {
      "cell_type": "code",
      "metadata": {
        "colab": {
          "base_uri": "https://localhost:8080/",
          "height": 295
        },
        "id": "4kcnUPmhiuIg",
        "outputId": "e2885236-cc87-4846-97aa-a31fa3a2d2bb"
      },
      "source": [
        "loss = history.history['loss']\n",
        "val_loss = history.history['val_loss']\n",
        "epochs = range(1, len(loss) + 1)\n",
        "plt.plot(epochs,loss, 'bo', label='Training loss') #blue dots\n",
        "plt.plot(epochs,val_loss, 'b', label='Validation loss') #blue line\n",
        "plt.title('Training and validation loss')\n",
        "plt.xlabel('Epochs')\n",
        "plt.ylabel('Loss')\n",
        "plt.legend()\n",
        "plt.show()"
      ],
      "execution_count": 17,
      "outputs": [
        {
          "output_type": "display_data",
          "data": {
            "image/png": "[encoded data removed]",
            "text/plain": [
              "<Figure size 432x288 with 1 Axes>"
            ]
          },
          "metadata": {
            "tags": [],
            "needs_background": "light"
          }
        }
      ]
    },
    {
      "cell_type": "code",
      "metadata": {
        "colab": {
          "base_uri": "https://localhost:8080/",
          "height": 295
        },
        "id": "IuKjIUisyubp",
        "outputId": "bf6a3f2a-53c1-4eb3-9129-196ba05a19ad"
      },
      "source": [
        "acc = history.history['accuracy']\n",
        "val_acc = history.history['val_accuracy']\n",
        "epochs = range(1, len(acc) + 1)\n",
        "plt.plot(epochs,acc, 'bo', label='Training accuracy') #blue dots\n",
        "plt.plot(epochs,val_acc, 'b', label='Validation accuracy') #blue line\n",
        "plt.title('Training and validation accuracy')\n",
        "plt.xlabel('Epochs')\n",
        "plt.ylabel('Accuracy')\n",
        "plt.legend()\n",
        "plt.show()"
      ],
      "execution_count": 18,
      "outputs": [
        {
          "output_type": "display_data",
          "data": {
            "image/png": "[encoded data removed]",
            "text/plain": [
              "<Figure size 432x288 with 1 Axes>"
            ]
          },
          "metadata": {
            "tags": [],
            "needs_background": "light"
          }
        }
      ]
    },
    {
      "cell_type": "markdown",
      "metadata": {
        "id": "_7ClqAfPAFcL"
      },
      "source": [
        "We see that the after the 50th epochs we start overfitting.\n",
        "Moreover our network look very complicated for the problem at hand and the learning rate does not look appropriate as shown by the instabilities in the validation loss."
      ]
    },
    {
      "cell_type": "markdown",
      "metadata": {
        "id": "ZBpjKNCPOSM9"
      },
      "source": [
        "# **Hyper-parameters tuning**"
      ]
    },
    {
      "cell_type": "code",
      "metadata": {
        "colab": {
          "base_uri": "https://localhost:8080/"
        },
        "id": "qlBNqjSeD6H1",
        "outputId": "72aeb985-1c8c-4440-d95d-7d49b0a219dc"
      },
      "source": [
        "model = models.Sequential()\n",
        "model.add(layers.Dense(512, activation='relu', input_shape=(32*32*3,)))\n",
        "model.add(layers.Dense(3, activation='softmax'))\n",
        "model.compile(optimizer=optimizers.Adam(lr=0.0001), loss='categorical_crossentropy', metrics=['accuracy'])\n",
        "history = model.fit(x_train, y_train, epochs=200, batch_size=500, validation_data=(x_val,y_val))"
      ],
      "execution_count": 19,
      "outputs": [
        {
          "output_type": "stream",
          "text": [
            "Epoch 1/200\n",
            "24/24 [==============================] - 1s 17ms/step - loss: 1.0679 - accuracy: 0.4726 - val_loss: 0.8205 - val_accuracy: 0.6670\n",
            "Epoch 2/200\n",
            "24/24 [==============================] - 0s 7ms/step - loss: 0.7940 - accuracy: 0.6752 - val_loss: 0.7766 - val_accuracy: 0.6903\n",
            "Epoch 3/200\n",
            "24/24 [==============================] - 0s 7ms/step - loss: 0.7455 - accuracy: 0.7005 - val_loss: 0.7445 - val_accuracy: 0.7050\n",
            "Epoch 4/200\n",
            "24/24 [==============================] - 0s 7ms/step - loss: 0.7162 - accuracy: 0.7177 - val_loss: 0.7322 - val_accuracy: 0.7083\n",
            "Epoch 5/200\n",
            "24/24 [==============================] - 0s 8ms/step - loss: 0.6965 - accuracy: 0.7266 - val_loss: 0.7165 - val_accuracy: 0.7160\n",
            "Epoch 6/200\n",
            "24/24 [==============================] - 0s 8ms/step - loss: 0.6760 - accuracy: 0.7330 - val_loss: 0.7076 - val_accuracy: 0.7243\n",
            "Epoch 7/200\n",
            "24/24 [==============================] - 0s 7ms/step - loss: 0.6593 - accuracy: 0.7388 - val_loss: 0.6869 - val_accuracy: 0.7317\n",
            "Epoch 8/200\n",
            "24/24 [==============================] - 0s 7ms/step - loss: 0.6535 - accuracy: 0.7409 - val_loss: 0.7224 - val_accuracy: 0.7097\n",
            "Epoch 9/200\n",
            "24/24 [==============================] - 0s 8ms/step - loss: 0.6480 - accuracy: 0.7410 - val_loss: 0.6750 - val_accuracy: 0.7290\n",
            "Epoch 10/200\n",
            "24/24 [==============================] - 0s 8ms/step - loss: 0.6271 - accuracy: 0.7480 - val_loss: 0.6704 - val_accuracy: 0.7440\n",
            "Epoch 11/200\n",
            "24/24 [==============================] - 0s 8ms/step - loss: 0.6102 - accuracy: 0.7573 - val_loss: 0.6510 - val_accuracy: 0.7487\n",
            "Epoch 12/200\n",
            "24/24 [==============================] - 0s 8ms/step - loss: 0.6044 - accuracy: 0.7663 - val_loss: 0.6390 - val_accuracy: 0.7597\n",
            "Epoch 13/200\n",
            "24/24 [==============================] - 0s 7ms/step - loss: 0.5935 - accuracy: 0.7623 - val_loss: 0.6441 - val_accuracy: 0.7443\n",
            "Epoch 14/200\n",
            "24/24 [==============================] - 0s 8ms/step - loss: 0.5912 - accuracy: 0.7660 - val_loss: 0.6296 - val_accuracy: 0.7547\n",
            "Epoch 15/200\n",
            "24/24 [==============================] - 0s 8ms/step - loss: 0.5818 - accuracy: 0.7737 - val_loss: 0.6208 - val_accuracy: 0.7687\n",
            "Epoch 16/200\n",
            "24/24 [==============================] - 0s 8ms/step - loss: 0.5769 - accuracy: 0.7760 - val_loss: 0.6174 - val_accuracy: 0.7660\n",
            "Epoch 17/200\n",
            "24/24 [==============================] - 0s 9ms/step - loss: 0.5765 - accuracy: 0.7738 - val_loss: 0.6106 - val_accuracy: 0.7607\n",
            "Epoch 18/200\n",
            "24/24 [==============================] - 0s 8ms/step - loss: 0.5614 - accuracy: 0.7777 - val_loss: 0.6203 - val_accuracy: 0.7620\n",
            "Epoch 19/200\n",
            "24/24 [==============================] - 0s 8ms/step - loss: 0.5580 - accuracy: 0.7787 - val_loss: 0.6028 - val_accuracy: 0.7687\n",
            "Epoch 20/200\n",
            "24/24 [==============================] - 0s 8ms/step - loss: 0.5398 - accuracy: 0.7890 - val_loss: 0.5949 - val_accuracy: 0.7737\n",
            "Epoch 21/200\n",
            "24/24 [==============================] - 0s 8ms/step - loss: 0.5370 - accuracy: 0.7901 - val_loss: 0.6066 - val_accuracy: 0.7597\n",
            "Epoch 22/200\n",
            "24/24 [==============================] - 0s 8ms/step - loss: 0.5486 - accuracy: 0.7850 - val_loss: 0.5871 - val_accuracy: 0.7810\n",
            "Epoch 23/200\n",
            "24/24 [==============================] - 0s 8ms/step - loss: 0.5225 - accuracy: 0.7924 - val_loss: 0.5846 - val_accuracy: 0.7803\n",
            "Epoch 24/200\n",
            "24/24 [==============================] - 0s 8ms/step - loss: 0.5150 - accuracy: 0.7983 - val_loss: 0.5851 - val_accuracy: 0.7803\n",
            "Epoch 25/200\n",
            "24/24 [==============================] - 0s 8ms/step - loss: 0.5116 - accuracy: 0.7974 - val_loss: 0.6029 - val_accuracy: 0.7607\n",
            "Epoch 26/200\n",
            "24/24 [==============================] - 0s 8ms/step - loss: 0.5161 - accuracy: 0.7966 - val_loss: 0.5738 - val_accuracy: 0.7867\n",
            "Epoch 27/200\n",
            "24/24 [==============================] - 0s 9ms/step - loss: 0.4928 - accuracy: 0.8080 - val_loss: 0.5684 - val_accuracy: 0.7860\n",
            "Epoch 28/200\n",
            "24/24 [==============================] - 0s 9ms/step - loss: 0.4910 - accuracy: 0.8121 - val_loss: 0.5790 - val_accuracy: 0.7727\n",
            "Epoch 29/200\n",
            "24/24 [==============================] - 0s 8ms/step - loss: 0.4997 - accuracy: 0.8015 - val_loss: 0.5829 - val_accuracy: 0.7743\n",
            "Epoch 30/200\n",
            "24/24 [==============================] - 0s 8ms/step - loss: 0.4894 - accuracy: 0.8094 - val_loss: 0.5705 - val_accuracy: 0.7757\n",
            "Epoch 31/200\n",
            "24/24 [==============================] - 0s 9ms/step - loss: 0.4958 - accuracy: 0.8076 - val_loss: 0.5553 - val_accuracy: 0.7800\n",
            "Epoch 32/200\n",
            "24/24 [==============================] - 0s 9ms/step - loss: 0.4810 - accuracy: 0.8111 - val_loss: 0.5539 - val_accuracy: 0.7850\n",
            "Epoch 33/200\n",
            "24/24 [==============================] - 0s 9ms/step - loss: 0.4668 - accuracy: 0.8199 - val_loss: 0.5502 - val_accuracy: 0.7907\n",
            "Epoch 34/200\n",
            "24/24 [==============================] - 0s 8ms/step - loss: 0.4690 - accuracy: 0.8211 - val_loss: 0.5486 - val_accuracy: 0.7883\n",
            "Epoch 35/200\n",
            "24/24 [==============================] - 0s 8ms/step - loss: 0.4568 - accuracy: 0.8267 - val_loss: 0.5473 - val_accuracy: 0.7903\n",
            "Epoch 36/200\n",
            "24/24 [==============================] - 0s 9ms/step - loss: 0.4586 - accuracy: 0.8261 - val_loss: 0.5432 - val_accuracy: 0.7950\n",
            "Epoch 37/200\n",
            "24/24 [==============================] - 0s 9ms/step - loss: 0.4523 - accuracy: 0.8280 - val_loss: 0.5389 - val_accuracy: 0.7943\n",
            "Epoch 38/200\n",
            "24/24 [==============================] - 0s 9ms/step - loss: 0.4503 - accuracy: 0.8308 - val_loss: 0.5447 - val_accuracy: 0.7850\n",
            "Epoch 39/200\n",
            "24/24 [==============================] - 0s 9ms/step - loss: 0.4502 - accuracy: 0.8247 - val_loss: 0.5372 - val_accuracy: 0.7923\n",
            "Epoch 40/200\n",
            "24/24 [==============================] - 0s 9ms/step - loss: 0.4279 - accuracy: 0.8350 - val_loss: 0.5398 - val_accuracy: 0.7950\n",
            "Epoch 41/200\n",
            "24/24 [==============================] - 0s 8ms/step - loss: 0.4533 - accuracy: 0.8264 - val_loss: 0.5275 - val_accuracy: 0.8003\n",
            "Epoch 42/200\n",
            "24/24 [==============================] - 0s 8ms/step - loss: 0.4336 - accuracy: 0.8347 - val_loss: 0.5300 - val_accuracy: 0.8023\n",
            "Epoch 43/200\n",
            "24/24 [==============================] - 0s 8ms/step - loss: 0.4259 - accuracy: 0.8356 - val_loss: 0.5245 - val_accuracy: 0.8023\n",
            "Epoch 44/200\n",
            "24/24 [==============================] - 0s 8ms/step - loss: 0.4286 - accuracy: 0.8422 - val_loss: 0.5337 - val_accuracy: 0.7943\n",
            "Epoch 45/200\n",
            "24/24 [==============================] - 0s 8ms/step - loss: 0.4359 - accuracy: 0.8337 - val_loss: 0.5292 - val_accuracy: 0.7990\n",
            "Epoch 46/200\n",
            "24/24 [==============================] - 0s 9ms/step - loss: 0.4171 - accuracy: 0.8397 - val_loss: 0.5243 - val_accuracy: 0.8007\n",
            "Epoch 47/200\n",
            "24/24 [==============================] - 0s 9ms/step - loss: 0.4129 - accuracy: 0.8408 - val_loss: 0.5453 - val_accuracy: 0.7800\n",
            "Epoch 48/200\n",
            "24/24 [==============================] - 0s 8ms/step - loss: 0.4140 - accuracy: 0.8405 - val_loss: 0.5237 - val_accuracy: 0.7980\n",
            "Epoch 49/200\n",
            "24/24 [==============================] - 0s 8ms/step - loss: 0.4196 - accuracy: 0.8443 - val_loss: 0.5144 - val_accuracy: 0.8043\n",
            "Epoch 50/200\n",
            "24/24 [==============================] - 0s 9ms/step - loss: 0.4114 - accuracy: 0.8476 - val_loss: 0.5182 - val_accuracy: 0.8063\n",
            "Epoch 51/200\n",
            "24/24 [==============================] - 0s 14ms/step - loss: 0.3948 - accuracy: 0.8570 - val_loss: 0.5110 - val_accuracy: 0.8053\n",
            "Epoch 52/200\n",
            "24/24 [==============================] - 0s 9ms/step - loss: 0.4068 - accuracy: 0.8456 - val_loss: 0.5051 - val_accuracy: 0.8087\n",
            "Epoch 53/200\n",
            "24/24 [==============================] - 0s 8ms/step - loss: 0.3939 - accuracy: 0.8545 - val_loss: 0.5211 - val_accuracy: 0.7990\n",
            "Epoch 54/200\n",
            "24/24 [==============================] - 0s 9ms/step - loss: 0.3868 - accuracy: 0.8588 - val_loss: 0.5141 - val_accuracy: 0.8027\n",
            "Epoch 55/200\n",
            "24/24 [==============================] - 0s 9ms/step - loss: 0.3861 - accuracy: 0.8555 - val_loss: 0.5116 - val_accuracy: 0.8020\n",
            "Epoch 56/200\n",
            "24/24 [==============================] - 0s 9ms/step - loss: 0.3853 - accuracy: 0.8570 - val_loss: 0.5014 - val_accuracy: 0.8110\n",
            "Epoch 57/200\n",
            "24/24 [==============================] - 0s 8ms/step - loss: 0.3851 - accuracy: 0.8515 - val_loss: 0.4999 - val_accuracy: 0.8127\n",
            "Epoch 58/200\n",
            "24/24 [==============================] - 0s 9ms/step - loss: 0.3790 - accuracy: 0.8623 - val_loss: 0.5237 - val_accuracy: 0.7930\n",
            "Epoch 59/200\n",
            "24/24 [==============================] - 0s 8ms/step - loss: 0.3776 - accuracy: 0.8611 - val_loss: 0.5023 - val_accuracy: 0.8090\n",
            "Epoch 60/200\n",
            "24/24 [==============================] - 0s 9ms/step - loss: 0.3696 - accuracy: 0.8659 - val_loss: 0.4989 - val_accuracy: 0.8097\n",
            "Epoch 61/200\n",
            "24/24 [==============================] - 0s 9ms/step - loss: 0.3710 - accuracy: 0.8651 - val_loss: 0.4972 - val_accuracy: 0.8150\n",
            "Epoch 62/200\n",
            "24/24 [==============================] - 0s 8ms/step - loss: 0.3605 - accuracy: 0.8653 - val_loss: 0.5002 - val_accuracy: 0.8097\n",
            "Epoch 63/200\n",
            "24/24 [==============================] - 0s 10ms/step - loss: 0.3679 - accuracy: 0.8665 - val_loss: 0.5023 - val_accuracy: 0.8133\n",
            "Epoch 64/200\n",
            "24/24 [==============================] - 0s 9ms/step - loss: 0.3600 - accuracy: 0.8687 - val_loss: 0.4925 - val_accuracy: 0.8117\n",
            "Epoch 65/200\n",
            "24/24 [==============================] - 0s 9ms/step - loss: 0.3541 - accuracy: 0.8700 - val_loss: 0.5116 - val_accuracy: 0.8020\n",
            "Epoch 66/200\n",
            "24/24 [==============================] - 0s 9ms/step - loss: 0.3643 - accuracy: 0.8650 - val_loss: 0.5072 - val_accuracy: 0.8023\n",
            "Epoch 67/200\n",
            "24/24 [==============================] - 0s 8ms/step - loss: 0.3568 - accuracy: 0.8688 - val_loss: 0.4981 - val_accuracy: 0.8100\n",
            "Epoch 68/200\n",
            "24/24 [==============================] - 0s 8ms/step - loss: 0.3425 - accuracy: 0.8789 - val_loss: 0.4942 - val_accuracy: 0.8123\n",
            "Epoch 69/200\n",
            "24/24 [==============================] - 0s 9ms/step - loss: 0.3536 - accuracy: 0.8722 - val_loss: 0.4968 - val_accuracy: 0.8120\n",
            "Epoch 70/200\n",
            "24/24 [==============================] - 0s 9ms/step - loss: 0.3489 - accuracy: 0.8715 - val_loss: 0.4904 - val_accuracy: 0.8187\n",
            "Epoch 71/200\n",
            "24/24 [==============================] - 0s 9ms/step - loss: 0.3399 - accuracy: 0.8779 - val_loss: 0.5033 - val_accuracy: 0.8047\n",
            "Epoch 72/200\n",
            "24/24 [==============================] - 0s 9ms/step - loss: 0.3365 - accuracy: 0.8773 - val_loss: 0.4835 - val_accuracy: 0.8170\n",
            "Epoch 73/200\n",
            "24/24 [==============================] - 0s 9ms/step - loss: 0.3341 - accuracy: 0.8805 - val_loss: 0.5081 - val_accuracy: 0.8027\n",
            "Epoch 74/200\n",
            "24/24 [==============================] - 0s 9ms/step - loss: 0.3495 - accuracy: 0.8707 - val_loss: 0.4921 - val_accuracy: 0.8163\n",
            "Epoch 75/200\n",
            "24/24 [==============================] - 0s 9ms/step - loss: 0.3388 - accuracy: 0.8763 - val_loss: 0.5008 - val_accuracy: 0.8080\n",
            "Epoch 76/200\n",
            "24/24 [==============================] - 0s 8ms/step - loss: 0.3286 - accuracy: 0.8873 - val_loss: 0.4861 - val_accuracy: 0.8180\n",
            "Epoch 77/200\n",
            "24/24 [==============================] - 0s 9ms/step - loss: 0.3310 - accuracy: 0.8801 - val_loss: 0.4855 - val_accuracy: 0.8150\n",
            "Epoch 78/200\n",
            "24/24 [==============================] - 0s 9ms/step - loss: 0.3182 - accuracy: 0.8868 - val_loss: 0.4843 - val_accuracy: 0.8147\n",
            "Epoch 79/200\n",
            "24/24 [==============================] - 0s 9ms/step - loss: 0.3199 - accuracy: 0.8848 - val_loss: 0.4877 - val_accuracy: 0.8140\n",
            "Epoch 80/200\n",
            "24/24 [==============================] - 0s 9ms/step - loss: 0.3219 - accuracy: 0.8852 - val_loss: 0.4899 - val_accuracy: 0.8133\n",
            "Epoch 81/200\n",
            "24/24 [==============================] - 0s 9ms/step - loss: 0.3222 - accuracy: 0.8826 - val_loss: 0.4817 - val_accuracy: 0.8160\n",
            "Epoch 82/200\n",
            "24/24 [==============================] - 0s 9ms/step - loss: 0.3243 - accuracy: 0.8819 - val_loss: 0.4852 - val_accuracy: 0.8170\n",
            "Epoch 83/200\n",
            "24/24 [==============================] - 0s 9ms/step - loss: 0.3171 - accuracy: 0.8846 - val_loss: 0.4741 - val_accuracy: 0.8207\n",
            "Epoch 84/200\n",
            "24/24 [==============================] - 0s 9ms/step - loss: 0.3085 - accuracy: 0.8930 - val_loss: 0.4741 - val_accuracy: 0.8197\n",
            "Epoch 85/200\n",
            "24/24 [==============================] - 0s 9ms/step - loss: 0.3131 - accuracy: 0.8879 - val_loss: 0.4784 - val_accuracy: 0.8190\n",
            "Epoch 86/200\n",
            "24/24 [==============================] - 0s 9ms/step - loss: 0.3054 - accuracy: 0.8900 - val_loss: 0.5065 - val_accuracy: 0.8080\n",
            "Epoch 87/200\n",
            "24/24 [==============================] - 0s 9ms/step - loss: 0.3123 - accuracy: 0.8900 - val_loss: 0.4957 - val_accuracy: 0.8110\n",
            "Epoch 88/200\n",
            "24/24 [==============================] - 0s 9ms/step - loss: 0.3018 - accuracy: 0.8945 - val_loss: 0.4804 - val_accuracy: 0.8163\n",
            "Epoch 89/200\n",
            "24/24 [==============================] - 0s 9ms/step - loss: 0.2918 - accuracy: 0.8987 - val_loss: 0.4805 - val_accuracy: 0.8200\n",
            "Epoch 90/200\n",
            "24/24 [==============================] - 0s 9ms/step - loss: 0.2906 - accuracy: 0.9040 - val_loss: 0.4784 - val_accuracy: 0.8190\n",
            "Epoch 91/200\n",
            "24/24 [==============================] - 0s 9ms/step - loss: 0.3013 - accuracy: 0.8903 - val_loss: 0.4807 - val_accuracy: 0.8157\n",
            "Epoch 92/200\n",
            "24/24 [==============================] - 0s 9ms/step - loss: 0.2910 - accuracy: 0.8988 - val_loss: 0.4763 - val_accuracy: 0.8207\n",
            "Epoch 93/200\n",
            "24/24 [==============================] - 0s 9ms/step - loss: 0.2956 - accuracy: 0.9000 - val_loss: 0.4748 - val_accuracy: 0.8153\n",
            "Epoch 94/200\n",
            "24/24 [==============================] - 0s 13ms/step - loss: 0.2814 - accuracy: 0.9049 - val_loss: 0.4890 - val_accuracy: 0.8127\n",
            "Epoch 95/200\n",
            "24/24 [==============================] - 0s 9ms/step - loss: 0.2926 - accuracy: 0.8976 - val_loss: 0.4843 - val_accuracy: 0.8157\n",
            "Epoch 96/200\n",
            "24/24 [==============================] - 0s 9ms/step - loss: 0.2812 - accuracy: 0.9035 - val_loss: 0.4713 - val_accuracy: 0.8233\n",
            "Epoch 97/200\n",
            "24/24 [==============================] - 0s 9ms/step - loss: 0.2752 - accuracy: 0.9050 - val_loss: 0.4785 - val_accuracy: 0.8140\n",
            "Epoch 98/200\n",
            "24/24 [==============================] - 0s 9ms/step - loss: 0.2731 - accuracy: 0.9063 - val_loss: 0.4767 - val_accuracy: 0.8193\n",
            "Epoch 99/200\n",
            "24/24 [==============================] - 0s 9ms/step - loss: 0.2745 - accuracy: 0.9099 - val_loss: 0.4736 - val_accuracy: 0.8190\n",
            "Epoch 100/200\n",
            "24/24 [==============================] - 0s 8ms/step - loss: 0.2741 - accuracy: 0.9088 - val_loss: 0.5027 - val_accuracy: 0.8087\n",
            "Epoch 101/200\n",
            "24/24 [==============================] - 0s 9ms/step - loss: 0.2813 - accuracy: 0.9014 - val_loss: 0.4806 - val_accuracy: 0.8160\n",
            "Epoch 102/200\n",
            "24/24 [==============================] - 0s 9ms/step - loss: 0.2771 - accuracy: 0.9051 - val_loss: 0.4687 - val_accuracy: 0.8220\n",
            "Epoch 103/200\n",
            "24/24 [==============================] - 0s 9ms/step - loss: 0.2665 - accuracy: 0.9121 - val_loss: 0.4678 - val_accuracy: 0.8200\n",
            "Epoch 104/200\n",
            "24/24 [==============================] - 0s 8ms/step - loss: 0.2613 - accuracy: 0.9136 - val_loss: 0.4711 - val_accuracy: 0.8183\n",
            "Epoch 105/200\n",
            "24/24 [==============================] - 0s 9ms/step - loss: 0.2636 - accuracy: 0.9090 - val_loss: 0.5028 - val_accuracy: 0.8053\n",
            "Epoch 106/200\n",
            "24/24 [==============================] - 0s 9ms/step - loss: 0.2676 - accuracy: 0.9115 - val_loss: 0.4902 - val_accuracy: 0.8137\n",
            "Epoch 107/200\n",
            "24/24 [==============================] - 0s 9ms/step - loss: 0.2697 - accuracy: 0.9069 - val_loss: 0.4853 - val_accuracy: 0.8197\n",
            "Epoch 108/200\n",
            "24/24 [==============================] - 0s 8ms/step - loss: 0.2536 - accuracy: 0.9188 - val_loss: 0.4754 - val_accuracy: 0.8203\n",
            "Epoch 109/200\n",
            "24/24 [==============================] - 0s 8ms/step - loss: 0.2555 - accuracy: 0.9170 - val_loss: 0.4858 - val_accuracy: 0.8113\n",
            "Epoch 110/200\n",
            "24/24 [==============================] - 0s 9ms/step - loss: 0.2525 - accuracy: 0.9207 - val_loss: 0.4656 - val_accuracy: 0.8203\n",
            "Epoch 111/200\n",
            "24/24 [==============================] - 0s 9ms/step - loss: 0.2507 - accuracy: 0.9181 - val_loss: 0.4764 - val_accuracy: 0.8163\n",
            "Epoch 112/200\n",
            "24/24 [==============================] - 0s 9ms/step - loss: 0.2478 - accuracy: 0.9186 - val_loss: 0.4660 - val_accuracy: 0.8207\n",
            "Epoch 113/200\n",
            "24/24 [==============================] - 0s 9ms/step - loss: 0.2464 - accuracy: 0.9186 - val_loss: 0.4699 - val_accuracy: 0.8223\n",
            "Epoch 114/200\n",
            "24/24 [==============================] - 0s 8ms/step - loss: 0.2525 - accuracy: 0.9155 - val_loss: 0.4663 - val_accuracy: 0.8247\n",
            "Epoch 115/200\n",
            "24/24 [==============================] - 0s 9ms/step - loss: 0.2456 - accuracy: 0.9200 - val_loss: 0.4680 - val_accuracy: 0.8207\n",
            "Epoch 116/200\n",
            "24/24 [==============================] - 0s 9ms/step - loss: 0.2374 - accuracy: 0.9242 - val_loss: 0.4702 - val_accuracy: 0.8227\n",
            "Epoch 117/200\n",
            "24/24 [==============================] - 0s 9ms/step - loss: 0.2557 - accuracy: 0.9118 - val_loss: 0.4712 - val_accuracy: 0.8223\n",
            "Epoch 118/200\n",
            "24/24 [==============================] - 0s 8ms/step - loss: 0.2359 - accuracy: 0.9255 - val_loss: 0.4664 - val_accuracy: 0.8233\n",
            "Epoch 119/200\n",
            "24/24 [==============================] - 0s 9ms/step - loss: 0.2367 - accuracy: 0.9239 - val_loss: 0.4730 - val_accuracy: 0.8227\n",
            "Epoch 120/200\n",
            "24/24 [==============================] - 0s 9ms/step - loss: 0.2288 - accuracy: 0.9289 - val_loss: 0.4808 - val_accuracy: 0.8173\n",
            "Epoch 121/200\n",
            "24/24 [==============================] - 0s 9ms/step - loss: 0.2341 - accuracy: 0.9254 - val_loss: 0.4863 - val_accuracy: 0.8177\n",
            "Epoch 122/200\n",
            "24/24 [==============================] - 0s 8ms/step - loss: 0.2414 - accuracy: 0.9259 - val_loss: 0.4692 - val_accuracy: 0.8207\n",
            "Epoch 123/200\n",
            "24/24 [==============================] - 0s 9ms/step - loss: 0.2305 - accuracy: 0.9268 - val_loss: 0.4939 - val_accuracy: 0.8123\n",
            "Epoch 124/200\n",
            "24/24 [==============================] - 0s 8ms/step - loss: 0.2330 - accuracy: 0.9245 - val_loss: 0.4635 - val_accuracy: 0.8273\n",
            "Epoch 125/200\n",
            "24/24 [==============================] - 0s 9ms/step - loss: 0.2282 - accuracy: 0.9266 - val_loss: 0.4766 - val_accuracy: 0.8193\n",
            "Epoch 126/200\n",
            "24/24 [==============================] - 0s 9ms/step - loss: 0.2323 - accuracy: 0.9281 - val_loss: 0.4746 - val_accuracy: 0.8220\n",
            "Epoch 127/200\n",
            "24/24 [==============================] - 0s 8ms/step - loss: 0.2285 - accuracy: 0.9258 - val_loss: 0.4808 - val_accuracy: 0.8170\n",
            "Epoch 128/200\n",
            "24/24 [==============================] - 0s 8ms/step - loss: 0.2273 - accuracy: 0.9285 - val_loss: 0.4751 - val_accuracy: 0.8227\n",
            "Epoch 129/200\n",
            "24/24 [==============================] - 0s 9ms/step - loss: 0.2329 - accuracy: 0.9238 - val_loss: 0.4668 - val_accuracy: 0.8247\n",
            "Epoch 130/200\n",
            "24/24 [==============================] - 0s 9ms/step - loss: 0.2185 - accuracy: 0.9343 - val_loss: 0.4689 - val_accuracy: 0.8230\n",
            "Epoch 131/200\n",
            "24/24 [==============================] - 0s 9ms/step - loss: 0.2189 - accuracy: 0.9324 - val_loss: 0.4733 - val_accuracy: 0.8210\n",
            "Epoch 132/200\n",
            "24/24 [==============================] - 0s 9ms/step - loss: 0.2172 - accuracy: 0.9333 - val_loss: 0.4739 - val_accuracy: 0.8213\n",
            "Epoch 133/200\n",
            "24/24 [==============================] - 0s 9ms/step - loss: 0.2159 - accuracy: 0.9354 - val_loss: 0.4831 - val_accuracy: 0.8137\n",
            "Epoch 134/200\n",
            "24/24 [==============================] - 0s 8ms/step - loss: 0.2168 - accuracy: 0.9342 - val_loss: 0.4642 - val_accuracy: 0.8243\n",
            "Epoch 135/200\n",
            "24/24 [==============================] - 0s 8ms/step - loss: 0.2081 - accuracy: 0.9356 - val_loss: 0.4667 - val_accuracy: 0.8227\n",
            "Epoch 136/200\n",
            "24/24 [==============================] - 0s 9ms/step - loss: 0.2113 - accuracy: 0.9362 - val_loss: 0.4656 - val_accuracy: 0.8283\n",
            "Epoch 137/200\n",
            "24/24 [==============================] - 0s 9ms/step - loss: 0.2133 - accuracy: 0.9335 - val_loss: 0.5085 - val_accuracy: 0.7997\n",
            "Epoch 138/200\n",
            "24/24 [==============================] - 0s 9ms/step - loss: 0.2121 - accuracy: 0.9329 - val_loss: 0.4766 - val_accuracy: 0.8213\n",
            "Epoch 139/200\n",
            "24/24 [==============================] - 0s 8ms/step - loss: 0.2132 - accuracy: 0.9313 - val_loss: 0.4789 - val_accuracy: 0.8157\n",
            "Epoch 140/200\n",
            "24/24 [==============================] - 0s 9ms/step - loss: 0.2065 - accuracy: 0.9356 - val_loss: 0.4914 - val_accuracy: 0.8193\n",
            "Epoch 141/200\n",
            "24/24 [==============================] - 0s 9ms/step - loss: 0.2127 - accuracy: 0.9331 - val_loss: 0.4715 - val_accuracy: 0.8233\n",
            "Epoch 142/200\n",
            "24/24 [==============================] - 0s 9ms/step - loss: 0.2024 - accuracy: 0.9389 - val_loss: 0.4661 - val_accuracy: 0.8237\n",
            "Epoch 143/200\n",
            "24/24 [==============================] - 0s 9ms/step - loss: 0.1995 - accuracy: 0.9418 - val_loss: 0.4945 - val_accuracy: 0.8093\n",
            "Epoch 144/200\n",
            "24/24 [==============================] - 0s 8ms/step - loss: 0.2095 - accuracy: 0.9321 - val_loss: 0.4616 - val_accuracy: 0.8297\n",
            "Epoch 145/200\n",
            "24/24 [==============================] - 0s 9ms/step - loss: 0.1966 - accuracy: 0.9432 - val_loss: 0.4632 - val_accuracy: 0.8270\n",
            "Epoch 146/200\n",
            "24/24 [==============================] - 0s 9ms/step - loss: 0.1958 - accuracy: 0.9428 - val_loss: 0.4660 - val_accuracy: 0.8287\n",
            "Epoch 147/200\n",
            "24/24 [==============================] - 0s 8ms/step - loss: 0.1889 - accuracy: 0.9449 - val_loss: 0.4714 - val_accuracy: 0.8263\n",
            "Epoch 148/200\n",
            "24/24 [==============================] - 0s 13ms/step - loss: 0.1965 - accuracy: 0.9449 - val_loss: 0.4626 - val_accuracy: 0.8250\n",
            "Epoch 149/200\n",
            "24/24 [==============================] - 0s 9ms/step - loss: 0.1920 - accuracy: 0.9448 - val_loss: 0.4710 - val_accuracy: 0.8230\n",
            "Epoch 150/200\n",
            "24/24 [==============================] - 0s 9ms/step - loss: 0.1857 - accuracy: 0.9471 - val_loss: 0.4637 - val_accuracy: 0.8270\n",
            "Epoch 151/200\n",
            "24/24 [==============================] - 0s 8ms/step - loss: 0.1877 - accuracy: 0.9455 - val_loss: 0.4653 - val_accuracy: 0.8283\n",
            "Epoch 152/200\n",
            "24/24 [==============================] - 0s 8ms/step - loss: 0.1838 - accuracy: 0.9461 - val_loss: 0.4649 - val_accuracy: 0.8240\n",
            "Epoch 153/200\n",
            "24/24 [==============================] - 0s 9ms/step - loss: 0.1852 - accuracy: 0.9468 - val_loss: 0.4635 - val_accuracy: 0.8280\n",
            "Epoch 154/200\n",
            "24/24 [==============================] - 0s 10ms/step - loss: 0.1844 - accuracy: 0.9479 - val_loss: 0.4886 - val_accuracy: 0.8163\n",
            "Epoch 155/200\n",
            "24/24 [==============================] - 0s 9ms/step - loss: 0.1923 - accuracy: 0.9451 - val_loss: 0.4857 - val_accuracy: 0.8203\n",
            "Epoch 156/200\n",
            "24/24 [==============================] - 0s 9ms/step - loss: 0.1928 - accuracy: 0.9407 - val_loss: 0.4775 - val_accuracy: 0.8167\n",
            "Epoch 157/200\n",
            "24/24 [==============================] - 0s 10ms/step - loss: 0.1854 - accuracy: 0.9481 - val_loss: 0.4738 - val_accuracy: 0.8263\n",
            "Epoch 158/200\n",
            "24/24 [==============================] - 0s 9ms/step - loss: 0.1746 - accuracy: 0.9535 - val_loss: 0.4641 - val_accuracy: 0.8263\n",
            "Epoch 159/200\n",
            "24/24 [==============================] - 0s 9ms/step - loss: 0.1777 - accuracy: 0.9533 - val_loss: 0.4716 - val_accuracy: 0.8250\n",
            "Epoch 160/200\n",
            "24/24 [==============================] - 0s 8ms/step - loss: 0.1827 - accuracy: 0.9477 - val_loss: 0.4876 - val_accuracy: 0.8187\n",
            "Epoch 161/200\n",
            "24/24 [==============================] - 0s 9ms/step - loss: 0.1849 - accuracy: 0.9443 - val_loss: 0.4908 - val_accuracy: 0.8160\n",
            "Epoch 162/200\n",
            "24/24 [==============================] - 0s 9ms/step - loss: 0.1869 - accuracy: 0.9441 - val_loss: 0.4709 - val_accuracy: 0.8263\n",
            "Epoch 163/200\n",
            "24/24 [==============================] - 0s 9ms/step - loss: 0.1695 - accuracy: 0.9546 - val_loss: 0.4734 - val_accuracy: 0.8247\n",
            "Epoch 164/200\n",
            "24/24 [==============================] - 0s 9ms/step - loss: 0.1781 - accuracy: 0.9473 - val_loss: 0.4835 - val_accuracy: 0.8210\n",
            "Epoch 165/200\n",
            "24/24 [==============================] - 0s 10ms/step - loss: 0.1740 - accuracy: 0.9516 - val_loss: 0.4681 - val_accuracy: 0.8297\n",
            "Epoch 166/200\n",
            "24/24 [==============================] - 0s 8ms/step - loss: 0.1663 - accuracy: 0.9563 - val_loss: 0.4704 - val_accuracy: 0.8267\n",
            "Epoch 167/200\n",
            "24/24 [==============================] - 0s 9ms/step - loss: 0.1702 - accuracy: 0.9537 - val_loss: 0.4689 - val_accuracy: 0.8247\n",
            "Epoch 168/200\n",
            "24/24 [==============================] - 0s 9ms/step - loss: 0.1668 - accuracy: 0.9544 - val_loss: 0.4737 - val_accuracy: 0.8257\n",
            "Epoch 169/200\n",
            "24/24 [==============================] - 0s 9ms/step - loss: 0.1621 - accuracy: 0.9572 - val_loss: 0.4689 - val_accuracy: 0.8253\n",
            "Epoch 170/200\n",
            "24/24 [==============================] - 0s 9ms/step - loss: 0.1666 - accuracy: 0.9556 - val_loss: 0.4706 - val_accuracy: 0.8243\n",
            "Epoch 171/200\n",
            "24/24 [==============================] - 0s 9ms/step - loss: 0.1635 - accuracy: 0.9565 - val_loss: 0.4757 - val_accuracy: 0.8287\n",
            "Epoch 172/200\n",
            "24/24 [==============================] - 0s 9ms/step - loss: 0.1576 - accuracy: 0.9608 - val_loss: 0.4703 - val_accuracy: 0.8250\n",
            "Epoch 173/200\n",
            "24/24 [==============================] - 0s 8ms/step - loss: 0.1576 - accuracy: 0.9622 - val_loss: 0.4806 - val_accuracy: 0.8217\n",
            "Epoch 174/200\n",
            "24/24 [==============================] - 0s 9ms/step - loss: 0.1763 - accuracy: 0.9499 - val_loss: 0.4860 - val_accuracy: 0.8213\n",
            "Epoch 175/200\n",
            "24/24 [==============================] - 0s 9ms/step - loss: 0.1715 - accuracy: 0.9484 - val_loss: 0.4829 - val_accuracy: 0.8243\n",
            "Epoch 176/200\n",
            "24/24 [==============================] - 0s 9ms/step - loss: 0.1608 - accuracy: 0.9602 - val_loss: 0.4756 - val_accuracy: 0.8263\n",
            "Epoch 177/200\n",
            "24/24 [==============================] - 0s 10ms/step - loss: 0.1637 - accuracy: 0.9551 - val_loss: 0.4723 - val_accuracy: 0.8293\n",
            "Epoch 178/200\n",
            "24/24 [==============================] - 0s 9ms/step - loss: 0.1623 - accuracy: 0.9536 - val_loss: 0.5008 - val_accuracy: 0.8173\n",
            "Epoch 179/200\n",
            "24/24 [==============================] - 0s 9ms/step - loss: 0.1616 - accuracy: 0.9560 - val_loss: 0.4741 - val_accuracy: 0.8303\n",
            "Epoch 180/200\n",
            "24/24 [==============================] - 0s 9ms/step - loss: 0.1597 - accuracy: 0.9588 - val_loss: 0.4704 - val_accuracy: 0.8277\n",
            "Epoch 181/200\n",
            "24/24 [==============================] - 0s 9ms/step - loss: 0.1565 - accuracy: 0.9594 - val_loss: 0.4667 - val_accuracy: 0.8293\n",
            "Epoch 182/200\n",
            "24/24 [==============================] - 0s 9ms/step - loss: 0.1478 - accuracy: 0.9655 - val_loss: 0.4778 - val_accuracy: 0.8283\n",
            "Epoch 183/200\n",
            "24/24 [==============================] - 0s 9ms/step - loss: 0.1533 - accuracy: 0.9635 - val_loss: 0.4734 - val_accuracy: 0.8250\n",
            "Epoch 184/200\n",
            "24/24 [==============================] - 0s 9ms/step - loss: 0.1476 - accuracy: 0.9652 - val_loss: 0.4809 - val_accuracy: 0.8233\n",
            "Epoch 185/200\n",
            "24/24 [==============================] - 0s 9ms/step - loss: 0.1416 - accuracy: 0.9667 - val_loss: 0.4804 - val_accuracy: 0.8280\n",
            "Epoch 186/200\n",
            "24/24 [==============================] - 0s 9ms/step - loss: 0.1443 - accuracy: 0.9663 - val_loss: 0.4685 - val_accuracy: 0.8293\n",
            "Epoch 187/200\n",
            "24/24 [==============================] - 0s 9ms/step - loss: 0.1437 - accuracy: 0.9664 - val_loss: 0.4849 - val_accuracy: 0.8197\n",
            "Epoch 188/200\n",
            "24/24 [==============================] - 0s 9ms/step - loss: 0.1487 - accuracy: 0.9640 - val_loss: 0.4713 - val_accuracy: 0.8297\n",
            "Epoch 189/200\n",
            "24/24 [==============================] - 0s 9ms/step - loss: 0.1466 - accuracy: 0.9653 - val_loss: 0.4835 - val_accuracy: 0.8260\n",
            "Epoch 190/200\n",
            "24/24 [==============================] - 0s 13ms/step - loss: 0.1435 - accuracy: 0.9656 - val_loss: 0.4999 - val_accuracy: 0.8183\n",
            "Epoch 191/200\n",
            "24/24 [==============================] - 0s 10ms/step - loss: 0.1418 - accuracy: 0.9656 - val_loss: 0.4799 - val_accuracy: 0.8263\n",
            "Epoch 192/200\n",
            "24/24 [==============================] - 0s 9ms/step - loss: 0.1420 - accuracy: 0.9681 - val_loss: 0.4787 - val_accuracy: 0.8297\n",
            "Epoch 193/200\n",
            "24/24 [==============================] - 0s 8ms/step - loss: 0.1336 - accuracy: 0.9693 - val_loss: 0.4794 - val_accuracy: 0.8267\n",
            "Epoch 194/200\n",
            "24/24 [==============================] - 0s 8ms/step - loss: 0.1433 - accuracy: 0.9647 - val_loss: 0.4823 - val_accuracy: 0.8237\n",
            "Epoch 195/200\n",
            "24/24 [==============================] - 0s 9ms/step - loss: 0.1378 - accuracy: 0.9671 - val_loss: 0.4786 - val_accuracy: 0.8297\n",
            "Epoch 196/200\n",
            "24/24 [==============================] - 0s 10ms/step - loss: 0.1302 - accuracy: 0.9711 - val_loss: 0.4810 - val_accuracy: 0.8313\n",
            "Epoch 197/200\n",
            "24/24 [==============================] - 0s 10ms/step - loss: 0.1311 - accuracy: 0.9692 - val_loss: 0.4761 - val_accuracy: 0.8277\n",
            "Epoch 198/200\n",
            "24/24 [==============================] - 0s 10ms/step - loss: 0.1379 - accuracy: 0.9668 - val_loss: 0.4981 - val_accuracy: 0.8213\n",
            "Epoch 199/200\n",
            "24/24 [==============================] - 0s 9ms/step - loss: 0.1371 - accuracy: 0.9650 - val_loss: 0.4852 - val_accuracy: 0.8193\n",
            "Epoch 200/200\n",
            "24/24 [==============================] - 0s 9ms/step - loss: 0.1343 - accuracy: 0.9692 - val_loss: 0.4834 - val_accuracy: 0.8260\n"
          ],
          "name": "stdout"
        }
      ]
    },
    {
      "cell_type": "code",
      "metadata": {
        "colab": {
          "base_uri": "https://localhost:8080/",
          "height": 295
        },
        "id": "CPrBZxmQG6cA",
        "outputId": "eb4c3623-bcc3-4b08-f3db-95a29aba7228"
      },
      "source": [
        "loss = history.history['loss']\n",
        "val_loss = history.history['val_loss']\n",
        "epochs = range(1, len(loss) + 1)\n",
        "plt.plot(epochs,loss, 'bo', label='Training loss') #blue dots\n",
        "plt.plot(epochs,val_loss, 'b', label='Validation loss') #blue line\n",
        "plt.title('Training and validation loss')\n",
        "plt.xlabel('Epochs')\n",
        "plt.ylabel('Loss')\n",
        "plt.legend()\n",
        "plt.show()"
      ],
      "execution_count": 20,
      "outputs": [
        {
          "output_type": "display_data",
          "data": {
            "image/png": "[encoded data removed]",
            "text/plain": [
              "<Figure size 432x288 with 1 Axes>"
            ]
          },
          "metadata": {
            "tags": [],
            "needs_background": "light"
          }
        }
      ]
    },
    {
      "cell_type": "code",
      "metadata": {
        "colab": {
          "base_uri": "https://localhost:8080/",
          "height": 295
        },
        "id": "tD85I5syHDA2",
        "outputId": "5b5c9d87-1013-4719-e1a7-98d5e6c00346"
      },
      "source": [
        "acc = history.history['accuracy']\n",
        "val_acc = history.history['val_accuracy']\n",
        "epochs = range(1, len(acc) + 1)\n",
        "plt.plot(epochs,acc, 'bo', label='Training accuracy') #blue dots\n",
        "plt.plot(epochs,val_acc, 'b', label='Validation accuracy') #blue line\n",
        "plt.title('Training and validation accuracy')\n",
        "plt.xlabel('Epochs')\n",
        "plt.ylabel('Accuracy')\n",
        "plt.legend()\n",
        "plt.show()"
      ],
      "execution_count": 21,
      "outputs": [
        {
          "output_type": "display_data",
          "data": {
            "image/png": "[encoded data removed]",
            "text/plain": [
              "<Figure size 432x288 with 1 Axes>"
            ]
          },
          "metadata": {
            "tags": [],
            "needs_background": "light"
          }
        }
      ]
    },
    {
      "cell_type": "markdown",
      "metadata": {
        "id": "XzybiaBlC_jh"
      },
      "source": [
        "This loss curve looks better, the validation and training accuracy has improve a little. But I notice that after the 100 epoch, the validation accuracy stops improving, so I should stop there. Can I have a simpler model ?"
      ]
    },
    {
      "cell_type": "code",
      "metadata": {
        "colab": {
          "base_uri": "https://localhost:8080/"
        },
        "id": "54hSQXyRAfhb",
        "outputId": "f6fe64a4-6c73-47ab-8f39-89664b81f212"
      },
      "source": [
        "model = models.Sequential()\n",
        "model.add(layers.Dense(64, activation='relu', input_shape=(32*32*3,)))\n",
        "model.add(layers.Dense(3, activation='softmax'))\n",
        "model.compile(optimizer=optimizers.Adam(lr=0.0001), loss='categorical_crossentropy', metrics=['accuracy'])\n",
        "history = model.fit(x_train, y_train, epochs=100, batch_size=500, validation_data=(x_val,y_val))"
      ],
      "execution_count": 22,
      "outputs": [
        {
          "output_type": "stream",
          "text": [
            "Epoch 1/100\n",
            "24/24 [==============================] - 1s 12ms/step - loss: 1.0538 - accuracy: 0.4596 - val_loss: 0.9126 - val_accuracy: 0.6027\n",
            "Epoch 2/100\n",
            "24/24 [==============================] - 0s 8ms/step - loss: 0.8657 - accuracy: 0.6417 - val_loss: 0.8394 - val_accuracy: 0.6503\n",
            "Epoch 3/100\n",
            "24/24 [==============================] - 0s 8ms/step - loss: 0.8129 - accuracy: 0.6778 - val_loss: 0.8166 - val_accuracy: 0.6683\n",
            "Epoch 4/100\n",
            "24/24 [==============================] - 0s 8ms/step - loss: 0.7782 - accuracy: 0.6915 - val_loss: 0.7889 - val_accuracy: 0.6803\n",
            "Epoch 5/100\n",
            "24/24 [==============================] - 0s 7ms/step - loss: 0.7655 - accuracy: 0.6909 - val_loss: 0.7800 - val_accuracy: 0.6820\n",
            "Epoch 6/100\n",
            "24/24 [==============================] - 0s 7ms/step - loss: 0.7376 - accuracy: 0.7043 - val_loss: 0.7686 - val_accuracy: 0.6933\n",
            "Epoch 7/100\n",
            "24/24 [==============================] - 0s 7ms/step - loss: 0.7406 - accuracy: 0.7028 - val_loss: 0.7566 - val_accuracy: 0.6917\n",
            "Epoch 8/100\n",
            "24/24 [==============================] - 0s 7ms/step - loss: 0.7178 - accuracy: 0.7189 - val_loss: 0.7631 - val_accuracy: 0.6963\n",
            "Epoch 9/100\n",
            "24/24 [==============================] - 0s 7ms/step - loss: 0.7210 - accuracy: 0.7078 - val_loss: 0.7424 - val_accuracy: 0.7093\n",
            "Epoch 10/100\n",
            "24/24 [==============================] - 0s 8ms/step - loss: 0.7086 - accuracy: 0.7169 - val_loss: 0.7399 - val_accuracy: 0.7113\n",
            "Epoch 11/100\n",
            "24/24 [==============================] - 0s 7ms/step - loss: 0.7028 - accuracy: 0.7220 - val_loss: 0.7357 - val_accuracy: 0.6983\n",
            "Epoch 12/100\n",
            "24/24 [==============================] - 0s 7ms/step - loss: 0.6993 - accuracy: 0.7195 - val_loss: 0.7235 - val_accuracy: 0.7123\n",
            "Epoch 13/100\n",
            "24/24 [==============================] - 0s 7ms/step - loss: 0.6761 - accuracy: 0.7320 - val_loss: 0.7134 - val_accuracy: 0.7197\n",
            "Epoch 14/100\n",
            "24/24 [==============================] - 0s 8ms/step - loss: 0.6747 - accuracy: 0.7316 - val_loss: 0.7205 - val_accuracy: 0.7187\n",
            "Epoch 15/100\n",
            "24/24 [==============================] - 0s 7ms/step - loss: 0.6680 - accuracy: 0.7377 - val_loss: 0.7081 - val_accuracy: 0.7243\n",
            "Epoch 16/100\n",
            "24/24 [==============================] - 0s 7ms/step - loss: 0.6536 - accuracy: 0.7459 - val_loss: 0.6971 - val_accuracy: 0.7243\n",
            "Epoch 17/100\n",
            "24/24 [==============================] - 0s 7ms/step - loss: 0.6560 - accuracy: 0.7386 - val_loss: 0.6899 - val_accuracy: 0.7230\n",
            "Epoch 18/100\n",
            "24/24 [==============================] - 0s 7ms/step - loss: 0.6485 - accuracy: 0.7425 - val_loss: 0.6861 - val_accuracy: 0.7300\n",
            "Epoch 19/100\n",
            "24/24 [==============================] - 0s 8ms/step - loss: 0.6439 - accuracy: 0.7458 - val_loss: 0.6817 - val_accuracy: 0.7350\n",
            "Epoch 20/100\n",
            "24/24 [==============================] - 0s 7ms/step - loss: 0.6403 - accuracy: 0.7460 - val_loss: 0.6757 - val_accuracy: 0.7343\n",
            "Epoch 21/100\n",
            "24/24 [==============================] - 0s 7ms/step - loss: 0.6338 - accuracy: 0.7494 - val_loss: 0.6764 - val_accuracy: 0.7370\n",
            "Epoch 22/100\n",
            "24/24 [==============================] - 0s 7ms/step - loss: 0.6217 - accuracy: 0.7530 - val_loss: 0.6816 - val_accuracy: 0.7257\n",
            "Epoch 23/100\n",
            "24/24 [==============================] - 0s 12ms/step - loss: 0.6317 - accuracy: 0.7457 - val_loss: 0.6663 - val_accuracy: 0.7443\n",
            "Epoch 24/100\n",
            "24/24 [==============================] - 0s 7ms/step - loss: 0.6162 - accuracy: 0.7561 - val_loss: 0.6686 - val_accuracy: 0.7433\n",
            "Epoch 25/100\n",
            "24/24 [==============================] - 0s 7ms/step - loss: 0.6157 - accuracy: 0.7587 - val_loss: 0.6597 - val_accuracy: 0.7443\n",
            "Epoch 26/100\n",
            "24/24 [==============================] - 0s 7ms/step - loss: 0.6048 - accuracy: 0.7679 - val_loss: 0.6599 - val_accuracy: 0.7437\n",
            "Epoch 27/100\n",
            "24/24 [==============================] - 0s 7ms/step - loss: 0.6119 - accuracy: 0.7583 - val_loss: 0.6521 - val_accuracy: 0.7483\n",
            "Epoch 28/100\n",
            "24/24 [==============================] - 0s 7ms/step - loss: 0.6040 - accuracy: 0.7600 - val_loss: 0.6498 - val_accuracy: 0.7510\n",
            "Epoch 29/100\n",
            "24/24 [==============================] - 0s 7ms/step - loss: 0.5952 - accuracy: 0.7641 - val_loss: 0.6479 - val_accuracy: 0.7433\n",
            "Epoch 30/100\n",
            "24/24 [==============================] - 0s 8ms/step - loss: 0.5945 - accuracy: 0.7652 - val_loss: 0.6518 - val_accuracy: 0.7500\n",
            "Epoch 31/100\n",
            "24/24 [==============================] - 0s 8ms/step - loss: 0.5848 - accuracy: 0.7737 - val_loss: 0.6502 - val_accuracy: 0.7483\n",
            "Epoch 32/100\n",
            "24/24 [==============================] - 0s 7ms/step - loss: 0.5790 - accuracy: 0.7740 - val_loss: 0.6572 - val_accuracy: 0.7447\n",
            "Epoch 33/100\n",
            "24/24 [==============================] - 0s 7ms/step - loss: 0.5807 - accuracy: 0.7748 - val_loss: 0.6329 - val_accuracy: 0.7537\n",
            "Epoch 34/100\n",
            "24/24 [==============================] - 0s 7ms/step - loss: 0.5729 - accuracy: 0.7751 - val_loss: 0.6345 - val_accuracy: 0.7570\n",
            "Epoch 35/100\n",
            "24/24 [==============================] - 0s 7ms/step - loss: 0.5783 - accuracy: 0.7776 - val_loss: 0.6292 - val_accuracy: 0.7610\n",
            "Epoch 36/100\n",
            "24/24 [==============================] - 0s 7ms/step - loss: 0.5733 - accuracy: 0.7747 - val_loss: 0.6261 - val_accuracy: 0.7503\n",
            "Epoch 37/100\n",
            "24/24 [==============================] - 0s 7ms/step - loss: 0.5665 - accuracy: 0.7795 - val_loss: 0.6254 - val_accuracy: 0.7550\n",
            "Epoch 38/100\n",
            "24/24 [==============================] - 0s 7ms/step - loss: 0.5627 - accuracy: 0.7860 - val_loss: 0.6245 - val_accuracy: 0.7577\n",
            "Epoch 39/100\n",
            "24/24 [==============================] - 0s 7ms/step - loss: 0.5681 - accuracy: 0.7751 - val_loss: 0.6213 - val_accuracy: 0.7543\n",
            "Epoch 40/100\n",
            "24/24 [==============================] - 0s 7ms/step - loss: 0.5631 - accuracy: 0.7763 - val_loss: 0.6248 - val_accuracy: 0.7623\n",
            "Epoch 41/100\n",
            "24/24 [==============================] - 0s 7ms/step - loss: 0.5552 - accuracy: 0.7798 - val_loss: 0.6258 - val_accuracy: 0.7607\n",
            "Epoch 42/100\n",
            "24/24 [==============================] - 0s 7ms/step - loss: 0.5662 - accuracy: 0.7821 - val_loss: 0.6150 - val_accuracy: 0.7670\n",
            "Epoch 43/100\n",
            "24/24 [==============================] - 0s 8ms/step - loss: 0.5596 - accuracy: 0.7768 - val_loss: 0.6169 - val_accuracy: 0.7660\n",
            "Epoch 44/100\n",
            "24/24 [==============================] - 0s 8ms/step - loss: 0.5613 - accuracy: 0.7820 - val_loss: 0.6116 - val_accuracy: 0.7680\n",
            "Epoch 45/100\n",
            "24/24 [==============================] - 0s 7ms/step - loss: 0.5503 - accuracy: 0.7871 - val_loss: 0.6124 - val_accuracy: 0.7670\n",
            "Epoch 46/100\n",
            "24/24 [==============================] - 0s 8ms/step - loss: 0.5491 - accuracy: 0.7890 - val_loss: 0.6099 - val_accuracy: 0.7677\n",
            "Epoch 47/100\n",
            "24/24 [==============================] - 0s 7ms/step - loss: 0.5382 - accuracy: 0.7928 - val_loss: 0.6160 - val_accuracy: 0.7587\n",
            "Epoch 48/100\n",
            "24/24 [==============================] - 0s 7ms/step - loss: 0.5449 - accuracy: 0.7809 - val_loss: 0.6048 - val_accuracy: 0.7717\n",
            "Epoch 49/100\n",
            "24/24 [==============================] - 0s 7ms/step - loss: 0.5391 - accuracy: 0.7918 - val_loss: 0.6019 - val_accuracy: 0.7730\n",
            "Epoch 50/100\n",
            "24/24 [==============================] - 0s 8ms/step - loss: 0.5348 - accuracy: 0.7952 - val_loss: 0.6017 - val_accuracy: 0.7720\n",
            "Epoch 51/100\n",
            "24/24 [==============================] - 0s 7ms/step - loss: 0.5387 - accuracy: 0.7916 - val_loss: 0.6036 - val_accuracy: 0.7697\n",
            "Epoch 52/100\n",
            "24/24 [==============================] - 0s 8ms/step - loss: 0.5292 - accuracy: 0.7933 - val_loss: 0.5989 - val_accuracy: 0.7703\n",
            "Epoch 53/100\n",
            "24/24 [==============================] - 0s 7ms/step - loss: 0.5270 - accuracy: 0.7964 - val_loss: 0.6010 - val_accuracy: 0.7707\n",
            "Epoch 54/100\n",
            "24/24 [==============================] - 0s 7ms/step - loss: 0.5357 - accuracy: 0.7890 - val_loss: 0.6243 - val_accuracy: 0.7503\n",
            "Epoch 55/100\n",
            "24/24 [==============================] - 0s 8ms/step - loss: 0.5330 - accuracy: 0.7900 - val_loss: 0.5959 - val_accuracy: 0.7703\n",
            "Epoch 56/100\n",
            "24/24 [==============================] - 0s 7ms/step - loss: 0.5288 - accuracy: 0.7958 - val_loss: 0.5941 - val_accuracy: 0.7773\n",
            "Epoch 57/100\n",
            "24/24 [==============================] - 0s 7ms/step - loss: 0.5180 - accuracy: 0.8031 - val_loss: 0.5990 - val_accuracy: 0.7747\n",
            "Epoch 58/100\n",
            "24/24 [==============================] - 0s 8ms/step - loss: 0.5215 - accuracy: 0.7992 - val_loss: 0.5888 - val_accuracy: 0.7743\n",
            "Epoch 59/100\n",
            "24/24 [==============================] - 0s 7ms/step - loss: 0.5155 - accuracy: 0.7989 - val_loss: 0.6021 - val_accuracy: 0.7650\n",
            "Epoch 60/100\n",
            "24/24 [==============================] - 0s 7ms/step - loss: 0.5187 - accuracy: 0.8034 - val_loss: 0.5973 - val_accuracy: 0.7697\n",
            "Epoch 61/100\n",
            "24/24 [==============================] - 0s 8ms/step - loss: 0.5118 - accuracy: 0.8014 - val_loss: 0.5844 - val_accuracy: 0.7753\n",
            "Epoch 62/100\n",
            "24/24 [==============================] - 0s 7ms/step - loss: 0.5122 - accuracy: 0.8031 - val_loss: 0.5836 - val_accuracy: 0.7773\n",
            "Epoch 63/100\n",
            "24/24 [==============================] - 0s 7ms/step - loss: 0.5135 - accuracy: 0.8007 - val_loss: 0.5811 - val_accuracy: 0.7777\n",
            "Epoch 64/100\n",
            "24/24 [==============================] - 0s 7ms/step - loss: 0.5056 - accuracy: 0.8008 - val_loss: 0.5939 - val_accuracy: 0.7723\n",
            "Epoch 65/100\n",
            "24/24 [==============================] - 0s 7ms/step - loss: 0.5004 - accuracy: 0.8086 - val_loss: 0.5809 - val_accuracy: 0.7777\n",
            "Epoch 66/100\n",
            "24/24 [==============================] - 0s 7ms/step - loss: 0.5078 - accuracy: 0.8055 - val_loss: 0.5798 - val_accuracy: 0.7743\n",
            "Epoch 67/100\n",
            "24/24 [==============================] - 0s 7ms/step - loss: 0.5038 - accuracy: 0.8048 - val_loss: 0.5780 - val_accuracy: 0.7757\n",
            "Epoch 68/100\n",
            "24/24 [==============================] - 0s 7ms/step - loss: 0.5051 - accuracy: 0.8041 - val_loss: 0.5774 - val_accuracy: 0.7737\n",
            "Epoch 69/100\n",
            "24/24 [==============================] - 0s 7ms/step - loss: 0.4957 - accuracy: 0.8076 - val_loss: 0.5796 - val_accuracy: 0.7773\n",
            "Epoch 70/100\n",
            "24/24 [==============================] - 0s 7ms/step - loss: 0.4987 - accuracy: 0.8073 - val_loss: 0.5875 - val_accuracy: 0.7680\n",
            "Epoch 71/100\n",
            "24/24 [==============================] - 0s 7ms/step - loss: 0.5026 - accuracy: 0.8065 - val_loss: 0.5792 - val_accuracy: 0.7783\n",
            "Epoch 72/100\n",
            "24/24 [==============================] - 0s 8ms/step - loss: 0.4924 - accuracy: 0.8094 - val_loss: 0.5717 - val_accuracy: 0.7767\n",
            "Epoch 73/100\n",
            "24/24 [==============================] - 0s 8ms/step - loss: 0.4886 - accuracy: 0.8080 - val_loss: 0.5712 - val_accuracy: 0.7787\n",
            "Epoch 74/100\n",
            "24/24 [==============================] - 0s 8ms/step - loss: 0.4922 - accuracy: 0.8094 - val_loss: 0.5783 - val_accuracy: 0.7793\n",
            "Epoch 75/100\n",
            "24/24 [==============================] - 0s 12ms/step - loss: 0.4888 - accuracy: 0.8113 - val_loss: 0.5686 - val_accuracy: 0.7810\n",
            "Epoch 76/100\n",
            "24/24 [==============================] - 0s 7ms/step - loss: 0.4844 - accuracy: 0.8137 - val_loss: 0.5696 - val_accuracy: 0.7797\n",
            "Epoch 77/100\n",
            "24/24 [==============================] - 0s 7ms/step - loss: 0.4810 - accuracy: 0.8177 - val_loss: 0.5679 - val_accuracy: 0.7783\n",
            "Epoch 78/100\n",
            "24/24 [==============================] - 0s 7ms/step - loss: 0.4743 - accuracy: 0.8204 - val_loss: 0.5668 - val_accuracy: 0.7797\n",
            "Epoch 79/100\n",
            "24/24 [==============================] - 0s 7ms/step - loss: 0.4789 - accuracy: 0.8131 - val_loss: 0.5891 - val_accuracy: 0.7673\n",
            "Epoch 80/100\n",
            "24/24 [==============================] - 0s 7ms/step - loss: 0.4838 - accuracy: 0.8081 - val_loss: 0.5670 - val_accuracy: 0.7793\n",
            "Epoch 81/100\n",
            "24/24 [==============================] - 0s 7ms/step - loss: 0.4777 - accuracy: 0.8148 - val_loss: 0.5677 - val_accuracy: 0.7797\n",
            "Epoch 82/100\n",
            "24/24 [==============================] - 0s 7ms/step - loss: 0.4863 - accuracy: 0.8117 - val_loss: 0.5682 - val_accuracy: 0.7773\n",
            "Epoch 83/100\n",
            "24/24 [==============================] - 0s 7ms/step - loss: 0.4741 - accuracy: 0.8197 - val_loss: 0.5689 - val_accuracy: 0.7810\n",
            "Epoch 84/100\n",
            "24/24 [==============================] - 0s 7ms/step - loss: 0.4677 - accuracy: 0.8231 - val_loss: 0.5695 - val_accuracy: 0.7800\n",
            "Epoch 85/100\n",
            "24/24 [==============================] - 0s 8ms/step - loss: 0.4700 - accuracy: 0.8197 - val_loss: 0.5638 - val_accuracy: 0.7803\n",
            "Epoch 86/100\n",
            "24/24 [==============================] - 0s 8ms/step - loss: 0.4730 - accuracy: 0.8173 - val_loss: 0.5609 - val_accuracy: 0.7787\n",
            "Epoch 87/100\n",
            "24/24 [==============================] - 0s 7ms/step - loss: 0.4671 - accuracy: 0.8172 - val_loss: 0.5589 - val_accuracy: 0.7850\n",
            "Epoch 88/100\n",
            "24/24 [==============================] - 0s 7ms/step - loss: 0.4589 - accuracy: 0.8237 - val_loss: 0.5604 - val_accuracy: 0.7823\n",
            "Epoch 89/100\n",
            "24/24 [==============================] - 0s 7ms/step - loss: 0.4710 - accuracy: 0.8216 - val_loss: 0.5587 - val_accuracy: 0.7833\n",
            "Epoch 90/100\n",
            "24/24 [==============================] - 0s 7ms/step - loss: 0.4687 - accuracy: 0.8185 - val_loss: 0.5557 - val_accuracy: 0.7847\n",
            "Epoch 91/100\n",
            "24/24 [==============================] - 0s 7ms/step - loss: 0.4598 - accuracy: 0.8240 - val_loss: 0.5572 - val_accuracy: 0.7850\n",
            "Epoch 92/100\n",
            "24/24 [==============================] - 0s 7ms/step - loss: 0.4616 - accuracy: 0.8214 - val_loss: 0.5588 - val_accuracy: 0.7820\n",
            "Epoch 93/100\n",
            "24/24 [==============================] - 0s 7ms/step - loss: 0.4622 - accuracy: 0.8228 - val_loss: 0.5599 - val_accuracy: 0.7850\n",
            "Epoch 94/100\n",
            "24/24 [==============================] - 0s 7ms/step - loss: 0.4600 - accuracy: 0.8277 - val_loss: 0.5539 - val_accuracy: 0.7843\n",
            "Epoch 95/100\n",
            "24/24 [==============================] - 0s 7ms/step - loss: 0.4494 - accuracy: 0.8263 - val_loss: 0.5540 - val_accuracy: 0.7853\n",
            "Epoch 96/100\n",
            "24/24 [==============================] - 0s 7ms/step - loss: 0.4547 - accuracy: 0.8309 - val_loss: 0.5512 - val_accuracy: 0.7857\n",
            "Epoch 97/100\n",
            "24/24 [==============================] - 0s 7ms/step - loss: 0.4599 - accuracy: 0.8184 - val_loss: 0.5566 - val_accuracy: 0.7840\n",
            "Epoch 98/100\n",
            "24/24 [==============================] - 0s 7ms/step - loss: 0.4546 - accuracy: 0.8267 - val_loss: 0.5514 - val_accuracy: 0.7850\n",
            "Epoch 99/100\n",
            "24/24 [==============================] - 0s 8ms/step - loss: 0.4461 - accuracy: 0.8283 - val_loss: 0.5489 - val_accuracy: 0.7887\n",
            "Epoch 100/100\n",
            "24/24 [==============================] - 0s 7ms/step - loss: 0.4472 - accuracy: 0.8239 - val_loss: 0.5489 - val_accuracy: 0.7863\n"
          ],
          "name": "stdout"
        }
      ]
    },
    {
      "cell_type": "code",
      "metadata": {
        "colab": {
          "base_uri": "https://localhost:8080/",
          "height": 295
        },
        "id": "-v7jSSS6DJVz",
        "outputId": "08856a1b-eb06-4ba4-a572-4aa7eff600f3"
      },
      "source": [
        "loss = history.history['loss']\n",
        "val_loss = history.history['val_loss']\n",
        "epochs = range(1, len(loss) + 1)\n",
        "#loss = [ sum(loss[key:key+5])/5 for key, val in enumerate(range(1, len(loss) + 1,5)) if key != 199]\n",
        "#val_loss = [ sum(val_loss[key:key+5])/5 for key, val in enumerate(range(1, len(val_loss) + 1,5)) if val != 200]\n",
        "plt.plot(epochs, loss, 'bo', label='Training loss') #blue dots\n",
        "plt.plot(epochs, val_loss, 'b', label='Validation loss') #blue line\n",
        "plt.title('Training and validation loss')\n",
        "plt.xlabel('Epochs')\n",
        "plt.ylabel('Loss')\n",
        "plt.legend()\n",
        "plt.show()"
      ],
      "execution_count": 23,
      "outputs": [
        {
          "output_type": "display_data",
          "data": {
            "image/png": "[encoded data removed]",
            "text/plain": [
              "<Figure size 432x288 with 1 Axes>"
            ]
          },
          "metadata": {
            "tags": [],
            "needs_background": "light"
          }
        }
      ]
    },
    {
      "cell_type": "code",
      "metadata": {
        "colab": {
          "base_uri": "https://localhost:8080/",
          "height": 295
        },
        "id": "gs9JTvOkDZD-",
        "outputId": "dadf6b62-3344-4134-c9c6-14ee5d8e8a84"
      },
      "source": [
        "acc = history.history['accuracy']\n",
        "val_acc = history.history['val_accuracy']\n",
        "epochs = range(1, len(acc) + 1)\n",
        "plt.plot(epochs,acc, 'bo', label='Training accuracy') #blue dots\n",
        "plt.plot(epochs,val_acc, 'b', label='Validation accuracy') #blue line\n",
        "plt.title('Training and validation accuracy')\n",
        "plt.xlabel('Epochs')\n",
        "plt.ylabel('Accuracy')\n",
        "plt.legend()\n",
        "plt.show()"
      ],
      "execution_count": 24,
      "outputs": [
        {
          "output_type": "display_data",
          "data": {
            "image/png": "[encoded data removed]",
            "text/plain": [
              "<Figure size 432x288 with 1 Axes>"
            ]
          },
          "metadata": {
            "tags": [],
            "needs_background": "light"
          }
        }
      ]
    },
    {
      "cell_type": "markdown",
      "metadata": {
        "id": "IHx4EBzkLmUq"
      },
      "source": [
        "I realize that the model is a little too simplistic, so I am going to pic the previous model. "
      ]
    },
    {
      "cell_type": "markdown",
      "metadata": {
        "id": "Cu-oUehgMl-B"
      },
      "source": [
        "# **Step 5 : Final model and performance evaluation**"
      ]
    },
    {
      "cell_type": "markdown",
      "metadata": {
        "id": "NNjE41kwMS7F"
      },
      "source": [
        "I will train on all the training variables so I will join the training and validation set"
      ]
    },
    {
      "cell_type": "code",
      "metadata": {
        "colab": {
          "base_uri": "https://localhost:8080/"
        },
        "id": "iK_xgWPmPjBa",
        "outputId": "8594c631-ff67-4693-df49-07e4b7f8f377"
      },
      "source": [
        "train_images.shape, test_images.shape"
      ],
      "execution_count": 25,
      "outputs": [
        {
          "output_type": "execute_result",
          "data": {
            "text/plain": [
              "((15000, 3072), (3000, 3072))"
            ]
          },
          "metadata": {
            "tags": []
          },
          "execution_count": 25
        }
      ]
    },
    {
      "cell_type": "code",
      "metadata": {
        "id": "ukPHaroFSnvD"
      },
      "source": [
        "# Save an instance to test the final model \n",
        "inst_image = test_images[-1]\n",
        "inst_label = test_labels[-1]"
      ],
      "execution_count": 26,
      "outputs": []
    },
    {
      "cell_type": "code",
      "metadata": {
        "id": "HqTrmcvlDf47",
        "colab": {
          "base_uri": "https://localhost:8080/"
        },
        "outputId": "805820f6-e01e-400b-dece-b45e98dc67b6"
      },
      "source": [
        "model = models.Sequential()\n",
        "model.add(layers.Dense(512, activation='relu', input_shape=(32*32*3,)))\n",
        "model.add(layers.Dense(3, activation='softmax'))\n",
        "model.compile(optimizer=optimizers.Adam(lr=0.0001), loss='categorical_crossentropy', metrics=['accuracy'])\n",
        "history = model.fit(train_images, train_labels, epochs=100, batch_size=500)"
      ],
      "execution_count": 27,
      "outputs": [
        {
          "output_type": "stream",
          "text": [
            "Epoch 1/100\n",
            "30/30 [==============================] - 1s 8ms/step - loss: 1.1278 - accuracy: 0.4269\n",
            "Epoch 2/100\n",
            "30/30 [==============================] - 0s 7ms/step - loss: 0.8053 - accuracy: 0.6671\n",
            "Epoch 3/100\n",
            "30/30 [==============================] - 0s 7ms/step - loss: 0.7540 - accuracy: 0.6966\n",
            "Epoch 4/100\n",
            "30/30 [==============================] - 0s 6ms/step - loss: 0.7092 - accuracy: 0.7210\n",
            "Epoch 5/100\n",
            "30/30 [==============================] - 0s 7ms/step - loss: 0.6976 - accuracy: 0.7253\n",
            "Epoch 6/100\n",
            "30/30 [==============================] - 0s 6ms/step - loss: 0.6726 - accuracy: 0.7367\n",
            "Epoch 7/100\n",
            "30/30 [==============================] - 0s 6ms/step - loss: 0.6512 - accuracy: 0.7450\n",
            "Epoch 8/100\n",
            "30/30 [==============================] - 0s 6ms/step - loss: 0.6516 - accuracy: 0.7379\n",
            "Epoch 9/100\n",
            "30/30 [==============================] - 0s 6ms/step - loss: 0.6304 - accuracy: 0.7604\n",
            "Epoch 10/100\n",
            "30/30 [==============================] - 0s 6ms/step - loss: 0.6153 - accuracy: 0.7583\n",
            "Epoch 11/100\n",
            "30/30 [==============================] - 0s 6ms/step - loss: 0.6025 - accuracy: 0.7658\n",
            "Epoch 12/100\n",
            "30/30 [==============================] - 0s 6ms/step - loss: 0.6010 - accuracy: 0.7657\n",
            "Epoch 13/100\n",
            "30/30 [==============================] - 0s 6ms/step - loss: 0.5737 - accuracy: 0.7790\n",
            "Epoch 14/100\n",
            "30/30 [==============================] - 0s 6ms/step - loss: 0.5655 - accuracy: 0.7797\n",
            "Epoch 15/100\n",
            "30/30 [==============================] - 0s 5ms/step - loss: 0.5628 - accuracy: 0.7826\n",
            "Epoch 16/100\n",
            "30/30 [==============================] - 0s 6ms/step - loss: 0.5630 - accuracy: 0.7798\n",
            "Epoch 17/100\n",
            "30/30 [==============================] - 0s 6ms/step - loss: 0.5490 - accuracy: 0.7859\n",
            "Epoch 18/100\n",
            "30/30 [==============================] - 0s 6ms/step - loss: 0.5495 - accuracy: 0.7868\n",
            "Epoch 19/100\n",
            "30/30 [==============================] - 0s 6ms/step - loss: 0.5281 - accuracy: 0.7967\n",
            "Epoch 20/100\n",
            "30/30 [==============================] - 0s 6ms/step - loss: 0.5261 - accuracy: 0.8026\n",
            "Epoch 21/100\n",
            "30/30 [==============================] - 0s 6ms/step - loss: 0.5231 - accuracy: 0.7955\n",
            "Epoch 22/100\n",
            "30/30 [==============================] - 0s 6ms/step - loss: 0.5177 - accuracy: 0.8005\n",
            "Epoch 23/100\n",
            "30/30 [==============================] - 0s 6ms/step - loss: 0.5184 - accuracy: 0.7971\n",
            "Epoch 24/100\n",
            "30/30 [==============================] - 0s 6ms/step - loss: 0.5190 - accuracy: 0.7982\n",
            "Epoch 25/100\n",
            "30/30 [==============================] - 0s 6ms/step - loss: 0.5126 - accuracy: 0.8009\n",
            "Epoch 26/100\n",
            "30/30 [==============================] - 0s 6ms/step - loss: 0.4832 - accuracy: 0.8130\n",
            "Epoch 27/100\n",
            "30/30 [==============================] - 0s 7ms/step - loss: 0.4872 - accuracy: 0.8096\n",
            "Epoch 28/100\n",
            "30/30 [==============================] - 0s 6ms/step - loss: 0.4798 - accuracy: 0.8147\n",
            "Epoch 29/100\n",
            "30/30 [==============================] - 0s 6ms/step - loss: 0.4738 - accuracy: 0.8158\n",
            "Epoch 30/100\n",
            "30/30 [==============================] - 0s 6ms/step - loss: 0.4722 - accuracy: 0.8191\n",
            "Epoch 31/100\n",
            "30/30 [==============================] - 0s 6ms/step - loss: 0.4649 - accuracy: 0.8259\n",
            "Epoch 32/100\n",
            "30/30 [==============================] - 0s 6ms/step - loss: 0.4736 - accuracy: 0.8161\n",
            "Epoch 33/100\n",
            "30/30 [==============================] - 0s 6ms/step - loss: 0.4651 - accuracy: 0.8235\n",
            "Epoch 34/100\n",
            "30/30 [==============================] - 0s 6ms/step - loss: 0.4585 - accuracy: 0.8235\n",
            "Epoch 35/100\n",
            "30/30 [==============================] - 0s 6ms/step - loss: 0.4500 - accuracy: 0.8286\n",
            "Epoch 36/100\n",
            "30/30 [==============================] - 0s 6ms/step - loss: 0.4434 - accuracy: 0.8352\n",
            "Epoch 37/100\n",
            "30/30 [==============================] - 0s 6ms/step - loss: 0.4518 - accuracy: 0.8256\n",
            "Epoch 38/100\n",
            "30/30 [==============================] - 0s 6ms/step - loss: 0.4532 - accuracy: 0.8210\n",
            "Epoch 39/100\n",
            "30/30 [==============================] - 0s 6ms/step - loss: 0.4318 - accuracy: 0.8361\n",
            "Epoch 40/100\n",
            "30/30 [==============================] - 0s 6ms/step - loss: 0.4289 - accuracy: 0.8356\n",
            "Epoch 41/100\n",
            "30/30 [==============================] - 0s 6ms/step - loss: 0.4367 - accuracy: 0.8313\n",
            "Epoch 42/100\n",
            "30/30 [==============================] - 0s 6ms/step - loss: 0.4276 - accuracy: 0.8348\n",
            "Epoch 43/100\n",
            "30/30 [==============================] - 0s 6ms/step - loss: 0.4246 - accuracy: 0.8405\n",
            "Epoch 44/100\n",
            "30/30 [==============================] - 0s 6ms/step - loss: 0.4205 - accuracy: 0.8419\n",
            "Epoch 45/100\n",
            "30/30 [==============================] - 0s 6ms/step - loss: 0.4079 - accuracy: 0.8471\n",
            "Epoch 46/100\n",
            "30/30 [==============================] - 0s 6ms/step - loss: 0.4048 - accuracy: 0.8494\n",
            "Epoch 47/100\n",
            "30/30 [==============================] - 0s 6ms/step - loss: 0.4013 - accuracy: 0.8472\n",
            "Epoch 48/100\n",
            "30/30 [==============================] - 0s 6ms/step - loss: 0.4003 - accuracy: 0.8483\n",
            "Epoch 49/100\n",
            "30/30 [==============================] - 0s 6ms/step - loss: 0.4015 - accuracy: 0.8472\n",
            "Epoch 50/100\n",
            "30/30 [==============================] - 0s 6ms/step - loss: 0.3886 - accuracy: 0.8544\n",
            "Epoch 51/100\n",
            "30/30 [==============================] - 0s 6ms/step - loss: 0.3820 - accuracy: 0.8584\n",
            "Epoch 52/100\n",
            "30/30 [==============================] - 0s 6ms/step - loss: 0.4036 - accuracy: 0.8415\n",
            "Epoch 53/100\n",
            "30/30 [==============================] - 0s 6ms/step - loss: 0.3814 - accuracy: 0.8575\n",
            "Epoch 54/100\n",
            "30/30 [==============================] - 0s 6ms/step - loss: 0.3779 - accuracy: 0.8557\n",
            "Epoch 55/100\n",
            "30/30 [==============================] - 0s 6ms/step - loss: 0.3766 - accuracy: 0.8571\n",
            "Epoch 56/100\n",
            "30/30 [==============================] - 0s 6ms/step - loss: 0.3801 - accuracy: 0.8556\n",
            "Epoch 57/100\n",
            "30/30 [==============================] - 0s 6ms/step - loss: 0.3757 - accuracy: 0.8583\n",
            "Epoch 58/100\n",
            "30/30 [==============================] - 0s 6ms/step - loss: 0.3732 - accuracy: 0.8619\n",
            "Epoch 59/100\n",
            "30/30 [==============================] - 0s 6ms/step - loss: 0.3601 - accuracy: 0.8655\n",
            "Epoch 60/100\n",
            "30/30 [==============================] - 0s 7ms/step - loss: 0.3677 - accuracy: 0.8650\n",
            "Epoch 61/100\n",
            "30/30 [==============================] - 0s 6ms/step - loss: 0.3646 - accuracy: 0.8659\n",
            "Epoch 62/100\n",
            "30/30 [==============================] - 0s 6ms/step - loss: 0.3585 - accuracy: 0.8669\n",
            "Epoch 63/100\n",
            "30/30 [==============================] - 0s 6ms/step - loss: 0.3597 - accuracy: 0.8700\n",
            "Epoch 64/100\n",
            "30/30 [==============================] - 0s 6ms/step - loss: 0.3512 - accuracy: 0.8657\n",
            "Epoch 65/100\n",
            "30/30 [==============================] - 0s 6ms/step - loss: 0.3449 - accuracy: 0.8731\n",
            "Epoch 66/100\n",
            "30/30 [==============================] - 0s 6ms/step - loss: 0.3424 - accuracy: 0.8749\n",
            "Epoch 67/100\n",
            "30/30 [==============================] - 0s 6ms/step - loss: 0.3433 - accuracy: 0.8699\n",
            "Epoch 68/100\n",
            "30/30 [==============================] - 0s 6ms/step - loss: 0.3473 - accuracy: 0.8702\n",
            "Epoch 69/100\n",
            "30/30 [==============================] - 0s 6ms/step - loss: 0.3339 - accuracy: 0.8744\n",
            "Epoch 70/100\n",
            "30/30 [==============================] - 0s 7ms/step - loss: 0.3281 - accuracy: 0.8825\n",
            "Epoch 71/100\n",
            "30/30 [==============================] - 0s 6ms/step - loss: 0.3301 - accuracy: 0.8811\n",
            "Epoch 72/100\n",
            "30/30 [==============================] - 0s 6ms/step - loss: 0.3251 - accuracy: 0.8824\n",
            "Epoch 73/100\n",
            "30/30 [==============================] - 0s 6ms/step - loss: 0.3253 - accuracy: 0.8840\n",
            "Epoch 74/100\n",
            "30/30 [==============================] - 0s 6ms/step - loss: 0.3201 - accuracy: 0.8809\n",
            "Epoch 75/100\n",
            "30/30 [==============================] - 0s 6ms/step - loss: 0.3182 - accuracy: 0.8893\n",
            "Epoch 76/100\n",
            "30/30 [==============================] - 0s 6ms/step - loss: 0.3198 - accuracy: 0.8851\n",
            "Epoch 77/100\n",
            "30/30 [==============================] - 0s 6ms/step - loss: 0.3232 - accuracy: 0.8819\n",
            "Epoch 78/100\n",
            "30/30 [==============================] - 0s 6ms/step - loss: 0.3337 - accuracy: 0.8772\n",
            "Epoch 79/100\n",
            "30/30 [==============================] - 0s 6ms/step - loss: 0.3162 - accuracy: 0.8861\n",
            "Epoch 80/100\n",
            "30/30 [==============================] - 0s 6ms/step - loss: 0.3107 - accuracy: 0.8874\n",
            "Epoch 81/100\n",
            "30/30 [==============================] - 0s 6ms/step - loss: 0.3089 - accuracy: 0.8882\n",
            "Epoch 82/100\n",
            "30/30 [==============================] - 0s 6ms/step - loss: 0.3022 - accuracy: 0.8928\n",
            "Epoch 83/100\n",
            "30/30 [==============================] - 0s 6ms/step - loss: 0.3025 - accuracy: 0.8925\n",
            "Epoch 84/100\n",
            "30/30 [==============================] - 0s 6ms/step - loss: 0.3036 - accuracy: 0.8915\n",
            "Epoch 85/100\n",
            "30/30 [==============================] - 0s 5ms/step - loss: 0.2978 - accuracy: 0.8936\n",
            "Epoch 86/100\n",
            "30/30 [==============================] - 0s 6ms/step - loss: 0.2948 - accuracy: 0.8964\n",
            "Epoch 87/100\n",
            "30/30 [==============================] - 0s 7ms/step - loss: 0.2917 - accuracy: 0.8974\n",
            "Epoch 88/100\n",
            "30/30 [==============================] - 0s 6ms/step - loss: 0.2924 - accuracy: 0.8959\n",
            "Epoch 89/100\n",
            "30/30 [==============================] - 0s 6ms/step - loss: 0.2866 - accuracy: 0.8993\n",
            "Epoch 90/100\n",
            "30/30 [==============================] - 0s 6ms/step - loss: 0.2862 - accuracy: 0.8965\n",
            "Epoch 91/100\n",
            "30/30 [==============================] - 0s 6ms/step - loss: 0.2844 - accuracy: 0.9002\n",
            "Epoch 92/100\n",
            "30/30 [==============================] - 0s 6ms/step - loss: 0.2853 - accuracy: 0.9005\n",
            "Epoch 93/100\n",
            "30/30 [==============================] - 0s 6ms/step - loss: 0.2873 - accuracy: 0.8979\n",
            "Epoch 94/100\n",
            "30/30 [==============================] - 0s 6ms/step - loss: 0.2807 - accuracy: 0.9047\n",
            "Epoch 95/100\n",
            "30/30 [==============================] - 0s 6ms/step - loss: 0.2800 - accuracy: 0.9046\n",
            "Epoch 96/100\n",
            "30/30 [==============================] - 0s 6ms/step - loss: 0.2758 - accuracy: 0.9040\n",
            "Epoch 97/100\n",
            "30/30 [==============================] - 0s 6ms/step - loss: 0.2701 - accuracy: 0.9045\n",
            "Epoch 98/100\n",
            "30/30 [==============================] - 0s 6ms/step - loss: 0.2678 - accuracy: 0.9090\n",
            "Epoch 99/100\n",
            "30/30 [==============================] - 0s 6ms/step - loss: 0.2688 - accuracy: 0.9045\n",
            "Epoch 100/100\n",
            "30/30 [==============================] - 0s 6ms/step - loss: 0.2620 - accuracy: 0.9116\n"
          ],
          "name": "stdout"
        }
      ]
    },
    {
      "cell_type": "code",
      "metadata": {
        "colab": {
          "base_uri": "https://localhost:8080/"
        },
        "id": "jpa7mIuyUeTk",
        "outputId": "938bd0c6-c853-46d5-c144-076abc74663a"
      },
      "source": [
        "score = model.evaluate(test_images[:-1], test_labels[:-1])\n",
        "score"
      ],
      "execution_count": 28,
      "outputs": [
        {
          "output_type": "stream",
          "text": [
            "94/94 [==============================] - 0s 2ms/step - loss: 0.4482 - accuracy: 0.8229\n"
          ],
          "name": "stdout"
        },
        {
          "output_type": "execute_result",
          "data": {
            "text/plain": [
              "[0.44819989800453186, 0.82294100522995]"
            ]
          },
          "metadata": {
            "tags": []
          },
          "execution_count": 28
        }
      ]
    },
    {
      "cell_type": "markdown",
      "metadata": {
        "id": "_x6qYIhxPrBE"
      },
      "source": [
        "# **Save the model and the weights**"
      ]
    },
    {
      "cell_type": "code",
      "metadata": {
        "id": "3k26Mc9oPwjY"
      },
      "source": [
        "model.save(\"/content/drive/My Drive/Colab Notebooks/CS577_colab/CIFAR3.h5\")"
      ],
      "execution_count": 29,
      "outputs": []
    },
    {
      "cell_type": "markdown",
      "metadata": {
        "id": "a6H_DhSgR684"
      },
      "source": [
        "Load and test the model"
      ]
    },
    {
      "cell_type": "code",
      "metadata": {
        "id": "kVHFiPpyQPim"
      },
      "source": [
        "model_loaded = models.load_model(\"/content/drive/My Drive/Colab Notebooks/CS577_colab/CIFAR3.h5\")"
      ],
      "execution_count": 30,
      "outputs": []
    },
    {
      "cell_type": "code",
      "metadata": {
        "id": "tzw4zX_jSDSC"
      },
      "source": [
        "result = model_loaded.predict(inst_image.reshape(1,-1))"
      ],
      "execution_count": 31,
      "outputs": []
    },
    {
      "cell_type": "code",
      "metadata": {
        "colab": {
          "base_uri": "https://localhost:8080/"
        },
        "id": "iAnBhX1gTSXj",
        "outputId": "36456f32-2732-4cc2-8743-dab8bdcb8ac0"
      },
      "source": [
        "np.argmax(result)"
      ],
      "execution_count": 32,
      "outputs": [
        {
          "output_type": "execute_result",
          "data": {
            "text/plain": [
              "2"
            ]
          },
          "metadata": {
            "tags": []
          },
          "execution_count": 32
        }
      ]
    },
    {
      "cell_type": "code",
      "metadata": {
        "colab": {
          "base_uri": "https://localhost:8080/"
        },
        "id": "Jv3oVZuFVwlC",
        "outputId": "99995a0c-0919-4224-dcb3-7b6583892765"
      },
      "source": [
        "inst_label"
      ],
      "execution_count": 33,
      "outputs": [
        {
          "output_type": "execute_result",
          "data": {
            "text/plain": [
              "array([0., 1., 0.], dtype=float32)"
            ]
          },
          "metadata": {
            "tags": []
          },
          "execution_count": 33
        }
      ]
    },
    {
      "cell_type": "markdown",
      "metadata": {
        "id": "ynsZluBOW3y7"
      },
      "source": [
        "The model works !"
      ]
    },
    {
      "cell_type": "code",
      "metadata": {
        "id": "hBL-3qWZdS-u"
      },
      "source": [
        ""
      ],
      "execution_count": 33,
      "outputs": []
    }
  ]
}